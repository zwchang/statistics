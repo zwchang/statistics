{
 "cells": [
  {
   "cell_type": "markdown",
   "metadata": {},
   "source": [
    "# Statistical Experiments and Significance Testing"
   ]
  },
  {
   "cell_type": "markdown",
   "metadata": {},
   "source": [
    "Design of experiments is a cornerstone of the practice of statistics, with\n",
    "applications in virtually all areas of research. The goal is to design an experiment\n",
    "in order to confirm or reject a hypothesis. Data scientists are faced with the need\n",
    "to conduct continual experiments, particularly regarding user interface and product\n",
    "marketing. This chapter reviews traditional experimental design and discusses\n",
    "some common challenges in data science. It also covers some oft-cited concepts\n",
    "in statistical inference and explains their meaning and relevance (or lack of\n",
    "relevance) to data science.\n",
    "\n",
    "Whenever you see references to statistical significance, t-tests, or p-values, it is\n",
    "typically in the context of the classical statistical inference “pipeline” . \n",
    "\n",
    "Fig.3: Formulate hypothesis -> Design experiment -> Collect data -> Inference/conclusions\n",
    "\n",
    "This process starts with a hypothesis (“drug A is better than the\n",
    "existing standard drug,” “price A is more profitable than the existing price B”).\n",
    "An experiment (it might be an A/B test) is designed to test the hypothesis —\n",
    "designed in such a way that, hopefully, will deliver conclusive results. The data is\n",
    "collected and analyzed, and then a conclusion is drawn. The term inference\n",
    "reflects the intention to apply the experiment results, which involve a limited set\n",
    "of data, to a larger process or population."
   ]
  },
  {
   "cell_type": "markdown",
   "metadata": {},
   "source": [
    "## 1. A/B Testing"
   ]
  },
  {
   "cell_type": "markdown",
   "metadata": {},
   "source": [
    "An A/B test is an experiment with two groups to establish which of two\n",
    "treatments, products, procedures, or the like is superior. Often one of the two\n",
    "treatments is the standard existing treatment, or no treatment. If a standard (or no)\n",
    "treatment is used, it is called the control. A typical hypothesis is that treatment is\n",
    "better than control.\n",
    "\n",
    "KEY TERMS FOR A/B TESTING\n",
    "\n",
    "Treatment:\n",
    "Something (drug, price, web headline) to which a subject is exposed.  \n",
    "Treatment group:\n",
    "A group of subjects exposed to a specific treatment.  \n",
    "Control group:\n",
    "A group of subjects exposed to no (or standard) treatment.  \n",
    "Randomization:\n",
    "The process of randomly assigning subjects to treatments.  \n",
    "Subjects:\n",
    "The items (web visitors, patients, etc.) that are exposed to treatments.  \n",
    "Test statistic:\n",
    "The metric used to measure the effect of the treatment."
   ]
  },
  {
   "cell_type": "markdown",
   "metadata": {},
   "source": [
    "A proper A/B test has subjects that can be assigned to one treatment or another.\n",
    "The subject might be a person, a plant seed, a web visitor; the key is that the\n",
    "subject is exposed to the treatment. Ideally, subjects are randomized (assigned\n",
    "randomly) to treatments. In this way, you know that any difference between the\n",
    "treatment groups is due to one of two things:\n",
    "\n",
    "The effect of the different treatments  \n",
    "Luck of the draw in which subjects are assigned to which treatments"
   ]
  },
  {
   "cell_type": "markdown",
   "metadata": {},
   "source": [
    "You also need to pay attention to the test statistic or metric you use to compare\n",
    "group A to group B. Perhaps the most common metric in data science is a binary\n",
    "variable: click or no-click, buy or don’t buy, fraud or no fraud, and so on. Those\n",
    "results would be summed up in a 2×2 table."
   ]
  },
  {
   "cell_type": "markdown",
   "metadata": {},
   "source": [
    "### Why have a control group?"
   ]
  },
  {
   "cell_type": "markdown",
   "metadata": {},
   "source": [
    "Without a control group, there is no assurance that “other things are equal” and\n",
    "that any difference is really due to the treatment (or to chance). When you have a\n",
    "control group, it is subject to the same conditions (except for the treatment of\n",
    "interest) as the treatment group. If you simply make a comparison to “baseline” or\n",
    "prior experience, other factors, besides the treatment, might differ."
   ]
  },
  {
   "cell_type": "markdown",
   "metadata": {},
   "source": [
    "The use of A/B testing in data science is typically in a web context. Treatments\n",
    "might be the design of a web page, the price of a product, the wording of a\n",
    "headline, or some other item. Some thought is required to preserve the principles\n",
    "of randomization. Typically the subject in the experiment is the web visitor, and\n",
    "the outcomes we are interested in measuring are clicks, purchases, visit duration,\n",
    "number of pages visited, whether a particular page is visited, and the like. In a\n",
    "standard A/B experiment, you need to decide on one metric ahead of time.\n",
    "Multiple behavior metrics might be collected and be of interest, but if the\n",
    "experiment is expected to lead to a decision between treatment A and treatment B,\n",
    "a single metric, or test statistic, needs to be established beforehand. Selecting a\n",
    "test statistic after the experiment is conducted opens the door to researcher bias."
   ]
  },
  {
   "cell_type": "markdown",
   "metadata": {},
   "source": [
    "### Why just A/B? Why not C, D, ...?"
   ]
  },
  {
   "cell_type": "markdown",
   "metadata": {},
   "source": [
    "Data scientists are less interested in the\n",
    "question:\n",
    "Is the difference between price A and price B statistically significant?\n",
    "than in the question:\n",
    "Which, out of multiple possible prices, is best?\n",
    "For this, a relatively new type of experimental design is used: the multi-arm\n",
    "bandit"
   ]
  },
  {
   "cell_type": "markdown",
   "metadata": {},
   "source": [
    "KEY IDEAS\n",
    "\n",
    "Subjects are assigned to two (or more) groups that are treated exactly alike, except that the\n",
    "treatment under study differs from one to another.  \n",
    "Ideally, subjects are assigned randomly to the groups."
   ]
  },
  {
   "cell_type": "markdown",
   "metadata": {},
   "source": [
    "## 2. Hypothesis Tests"
   ]
  },
  {
   "cell_type": "markdown",
   "metadata": {},
   "source": [
    "Hypothesis tests, also called significance tests, are ubiquitous in the traditional\n",
    "statistical analysis of published research. Their purpose is to help you learn\n",
    "whether random chance might be responsible for an observed effect."
   ]
  },
  {
   "cell_type": "markdown",
   "metadata": {},
   "source": [
    "KEY TERMS\n",
    "\n",
    "Null hypothesis:\n",
    "The hypothesis that chance is to blame.  \n",
    "Alternative hypothesis:\n",
    "Counterpoint to the null (what you hope to prove).  \n",
    "One-way test:\n",
    "Hypothesis test that counts chance results only in one direction.  \n",
    "Two-way test:\n",
    "Hypothesis test that counts chance results in two directions."
   ]
  },
  {
   "cell_type": "markdown",
   "metadata": {},
   "source": [
    "An A/B test (see “A/B Testing”) is typically constructed with a hypothesis in\n",
    "mind. For example, the hypothesis might be that price B produces higher profit.\n",
    "Why do we need a hypothesis? Why not just look at the outcome of the experiment\n",
    "and go with whichever treatment does better?\n",
    "\n",
    "The answer lies in the tendency of the human mind to underestimate the scope of\n",
    "natural random behavior. One manifestation of this is the failure to anticipate\n",
    "extreme events, or so-called “black swans” (see “Long-Tailed Distributions”).\n",
    "Another manifestation is the tendency to misinterpret random events as having\n",
    "patterns of some significance. Statistical hypothesis testing was invented as a way\n",
    "to protect researchers from being fooled by random chance."
   ]
  },
  {
   "cell_type": "markdown",
   "metadata": {},
   "source": [
    "In a properly designed A/B test, you collect data on treatments A and B in such a\n",
    "way that any observed difference between A and B must be due to either:\n",
    "\n",
    "Random chance in assignment of subjects  \n",
    "A true difference between A and B  \n",
    "\n",
    "A statistical hypothesis test is further analysis of an A/B test, or any randomized\n",
    "experiment, to assess whether random chance is a reasonable explanation for the\n",
    "observed difference between groups A and B."
   ]
  },
  {
   "cell_type": "markdown",
   "metadata": {},
   "source": [
    "### The Null hypothesis\n",
    "\n",
    "Hypothesis tests use the following logic: “Given the human tendency to react to\n",
    "unusual but random behavior and interpret it as something meaningful and real, in\n",
    "our experiments we will require proof that the difference between groups is more\n",
    "extreme than what chance might reasonably produce.” This involves a baseline\n",
    "assumption that the treatments are equivalent, and any difference between the\n",
    "groups is due to chance. This baseline assumption is termed the null hypothesis.\n",
    "Our hope is then that we can, in fact, prove the null hypothesis wrong, and show\n",
    "that the outcomes for groups A and B are more different than what chance might\n",
    "produce.\n",
    "\n",
    "One way to do this is via a resampling permutation procedure, in which we\n",
    "shuffle together the results from groups A and B and then repeatedly deal out the\n",
    "data in groups of similar sizes, then observe how often we get a difference as\n",
    "extreme as the observed difference.\n",
    "\n"
   ]
  },
  {
   "cell_type": "markdown",
   "metadata": {},
   "source": [
    "### Alternative Hypothesis\n",
    "\n",
    "Hypothesis tests by their nature involve not just a null hypothesis, but also an\n",
    "offsetting alternative hypothesis. Here are some examples:\n",
    "\n",
    "Null = “no difference between the means of group A and group B,”\n",
    "alternative = “A is different from B” (could be bigger or smaller)  \n",
    "Null = “A<=B,” alternative = “B > A”  \n",
    "Null = “B is not X% greater than A,” alternative = “B is X% greater than A”  \n",
    "\n",
    "Taken together, the null and alternative hypotheses must account for all\n",
    "possibilities. The nature of the null hypothesis determines the structure of the\n",
    "hypothesis test."
   ]
  },
  {
   "cell_type": "markdown",
   "metadata": {},
   "source": [
    "### One-Way, Two-Way Hypothesis Test\n",
    "\n",
    "Often, in an A/B test, you are testing a new option (say B), against an established\n",
    "default option (A) and the presumption is that you will stick with the default\n",
    "option unless the new option proves itself definitively better. In such a case, you\n",
    "want a hypothesis test to protect you from being fooled by chance in the direction\n",
    "favoring B. You don’t care about being fooled by chance in the other direction,\n",
    "because you would be sticking with A unless B proves definitively better. So you\n",
    "want a directional alternative hypothesis (B is better than A). In such a case, you\n",
    "use a one-way (or one-tail) hypothesis test. This means that extreme chance results\n",
    "in only one direction direction count toward the p-value.\n",
    "\n",
    "If you want a hypothesis test to protect you from being fooled by chance in either\n",
    "direction, the alternative hypothesis is bidirectional (A is different from B; could\n",
    "be bigger or smaller). In such a case, you use a two-way (or two-tail) hypothesis.\n",
    "This means that extreme chance results in either direction count toward the pvalue."
   ]
  },
  {
   "cell_type": "markdown",
   "metadata": {},
   "source": [
    "KEY IDEAS\n",
    "\n",
    "A null hypothesis is a logical construct embodying the notion that nothing special has happened,\n",
    "and any effect you observe is due to random chance.  \n",
    "The hypothesis test assumes that the null hypothesis is true, creates a “null model” (a probability\n",
    "model), and tests whether the effect you observe is a reasonable outcome of that model."
   ]
  },
  {
   "cell_type": "markdown",
   "metadata": {},
   "source": [
    "## 3. Resampling\n",
    "Resampling in statistics means to repeatedly sample values from observed data,\n",
    "with a general goal of assessing random variability in a statistic. It can also be\n",
    "used to assess and improve the accuracy of some machine-learning models (e.g.,\n",
    "the predictions from decision tree models built on multiple bootstrapped data sets\n",
    "can be averaged in a process known as bagging: see “Bagging and the Random\n",
    "Forest”).\n",
    "\n",
    "There are two main types of resampling procedures: the bootstrap and\n",
    "permutation tests. The bootstrap is used to assess the reliability of an estimate; it\n",
    "was discussed in the chapter 2. Permutation tests\n",
    "are used to test hypotheses, typically involving two or more groups, and we\n",
    "discuss those in this section."
   ]
  },
  {
   "cell_type": "markdown",
   "metadata": {},
   "source": [
    "KEY TERMS\n",
    "\n",
    "Permutation test:\n",
    "The procedure of combining two or more samples together, and randomly (or exhaustively)\n",
    "reallocating the observations to resamples.\n",
    "Synonyms:\n",
    "Randomization test, random permutation test, exact test.  \n",
    "With or without replacement:\n",
    "In sampling, whether or not an item is returned to the sample before the next draw."
   ]
  },
  {
   "cell_type": "markdown",
   "metadata": {},
   "source": [
    "### Permutation Test\n",
    "\n",
    "In a permutation procedure, two or more samples are involved, typically the\n",
    "groups in an A/B or other hypothesis test. Permute means to change the order of a\n",
    "set of values. The first step in a permutation test of a hypothesis is to combine the\n",
    "results from groups A and B (and, if used, C, D, …) together. This is the logical\n",
    "embodiment of the null hypothesis that the treatments to which the groups were\n",
    "exposed do not differ. We then test that hypothesis by randomly drawing groups\n",
    "from this combined set, and seeing how much they differ from one another. The\n",
    "permutation procedure is as follows:\n",
    "\n",
    "1. Combine the results from the different groups in a single data set.\n",
    "2. Shuffle the combined data, then randomly draw (without replacing) a\n",
    "resample of the same size as group A.\n",
    "3. From the remaining data, randomly draw (without replacing) a resample\n",
    "of the same size as group B.\n",
    "4. Do the same for groups C, D, and so on.\n",
    "5. Whatever statistic or estimate was calculated for the original samples\n",
    "(e.g., difference in group proportions), calculate it now for the\n",
    "resamples, and record; this constitutes one permutation iteration.\n",
    "6. Repeat the previous steps R times to yield a permutation distribution of\n",
    "the test statistic.\n",
    "\n",
    "Now go back to the observed difference between groups and compare it to the set\n",
    "of permuted differences. If the observed difference lies well within the set of\n",
    "permuted differences, then we have not proven anything — the observed\n",
    "difference is within the range of what chance might produce. However, if the\n",
    "observed difference lies outside most of the permutation distribution, then we\n",
    "conclude that chance is not responsible. In technical terms, the difference is\n",
    "statistically significant."
   ]
  },
  {
   "cell_type": "markdown",
   "metadata": {},
   "source": [
    "### Example: Web Stickiness"
   ]
  },
  {
   "cell_type": "markdown",
   "metadata": {},
   "source": [
    "A company selling a relatively high-value service wants to test which of two web\n",
    "presentations does a better selling job. Due to the high value of the service being\n",
    "sold, sales are infrequent and the sales cycle is lengthy; it would take too long to\n",
    "accumulate enough sales to know which presentation is superior. So the company\n",
    "decides to measure the results with a proxy variable, using the detailed interior\n",
    "page that describes the service.\n",
    "\n",
    "(A proxy variable is one that stands in for the true variable of interest, which may be unavailable,\n",
    "too costly, or too time-consuming to measure. In climate research, for example, the oxygen\n",
    "content of ancient ice cores is used as a proxy for temperature. It is useful to have at least some\n",
    "data on the true variable of interest, so the strength of its association with the proxy can be\n",
    "assessed.)\n",
    "\n",
    "One potential proxy variable for our company is the number of clicks on the\n",
    "detailed landing page. A better one is how long people spend on the page. It is\n",
    "reasonable to think that a web presentation (page) that holds people’s attention\n",
    "longer will lead to more sales. Hence, our metric is average session time,\n",
    "comparing page A to page B.\n",
    "\n",
    "Due to the fact that this is an interior, special-purpose page, it does not receive a\n",
    "huge number of visitors. Also note that Google Analytics, which is how we\n",
    "measure session time, cannot measure session time for the last session a person\n",
    "visits. Instead of deleting that session from the data, though, GA records it as a\n",
    "zero, so the data requires additional processing to remove those sessions. The\n",
    "result is a total of 36 sessions for the two different presentations, 21 for page A\n",
    "and 15 for page B.\n",
    "\n"
   ]
  },
  {
   "cell_type": "code",
   "execution_count": 1,
   "metadata": {},
   "outputs": [],
   "source": [
    "%matplotlib inline\n",
    "\n",
    "from pathlib import Path\n",
    "import random\n",
    "\n",
    "import pandas as pd\n",
    "import numpy as np\n",
    "\n",
    "from scipy import stats\n",
    "import statsmodels.api as sm\n",
    "import statsmodels.formula.api as smf\n",
    "from statsmodels.stats import power\n",
    "\n",
    "import matplotlib.pylab as plt"
   ]
  },
  {
   "cell_type": "code",
   "execution_count": 2,
   "metadata": {},
   "outputs": [],
   "source": [
    "# define paths to the dataset\n",
    "\n",
    "DATA = Path().resolve() / 'data'\n",
    "\n",
    "WEB_PAGE_DATA_CSV = DATA / 'web_page_data.csv'\n",
    "FOUR_SESSIONS_CSV = DATA / 'four_sessions.csv'\n",
    "CLICK_RATE_CSV = DATA / 'click_rates.csv'\n",
    "IMANISHI_CSV = DATA / 'imanishi_data.csv'"
   ]
  },
  {
   "cell_type": "code",
   "execution_count": 3,
   "metadata": {},
   "outputs": [],
   "source": [
    "session_times = pd.read_csv(WEB_PAGE_DATA_CSV)\n",
    "session_times.Time = 100 * session_times.Time"
   ]
  },
  {
   "cell_type": "code",
   "execution_count": 4,
   "metadata": {},
   "outputs": [
    {
     "data": {
      "text/plain": [
       "Text(0.5, 0.98, '')"
      ]
     },
     "execution_count": 4,
     "metadata": {},
     "output_type": "execute_result"
    },
    {
     "data": {
      "image/png": "[encoded data removed]",
      "text/plain": [
       "<Figure size 288x288 with 1 Axes>"
      ]
     },
     "metadata": {
      "needs_background": "light"
     },
     "output_type": "display_data"
    }
   ],
   "source": [
    "# The boxplot, shown in Figure 3-3, indicates that page B leads to longer sessions\n",
    "# than page A.\n",
    "\n",
    "ax = session_times.boxplot(by='Page', column='Time',\n",
    "                           figsize=(4, 4))\n",
    "ax.set_xlabel('')\n",
    "ax.set_ylabel('Time (in seconds)')\n",
    "plt.suptitle('')"
   ]
  },
  {
   "cell_type": "code",
   "execution_count": 5,
   "metadata": {},
   "outputs": [
    {
     "name": "stdout",
     "output_type": "stream",
     "text": [
      "35.66666666666667\n"
     ]
    }
   ],
   "source": [
    "# Page B has session times greater, on average, by 36 seconds versus page A. The\n",
    "# question is whether this difference is within the range of what random chance\n",
    "# might produce, or, alternatively, is statistically significant.\n",
    "\n",
    "mean_a = session_times[session_times.Page == 'Page A'].Time.mean()\n",
    "mean_b = session_times[session_times.Page == 'Page B'].Time.mean()\n",
    "print(mean_b - mean_a)"
   ]
  },
  {
   "cell_type": "code",
   "execution_count": 9,
   "metadata": {},
   "outputs": [
    {
     "name": "stdout",
     "output_type": "stream",
     "text": [
      "32.00952380952381\n"
     ]
    }
   ],
   "source": [
    "# Permutation test example with stickiness\n",
    "def perm_fun(x, nA, nB):\n",
    "    n = nA + nB\n",
    "    idx_B = set(random.sample(range(n), nB))\n",
    "    idx_A = set(range(n)) - idx_B\n",
    "    return x.loc[idx_B].mean() - x.loc[idx_A].mean()\n",
    "    \n",
    "nA = session_times[session_times.Page == 'Page A'].shape[0]\n",
    "nB = session_times[session_times.Page == 'Page B'].shape[0]\n",
    "print(perm_fun(session_times.Time, nA, nB))"
   ]
  },
  {
   "cell_type": "code",
   "execution_count": 10,
   "metadata": {},
   "outputs": [
    {
     "data": {
      "text/plain": [
       "Text(0, 0.5, 'Frequency')"
      ]
     },
     "execution_count": 10,
     "metadata": {},
     "output_type": "execute_result"
    },
    {
     "data": {
      "image/png": "[encoded data removed]",
      "text/plain": [
       "<Figure size 360x360 with 1 Axes>"
      ]
     },
     "metadata": {
      "needs_background": "light"
     },
     "output_type": "display_data"
    }
   ],
   "source": [
    "random.seed(1)\n",
    "perm_diffs = [perm_fun(session_times.Time, nA, nB) for _ in range(1000)]\n",
    "\n",
    "fig, ax = plt.subplots(figsize=(5, 5))\n",
    "ax.hist(perm_diffs, bins=11, rwidth=0.9)\n",
    "ax.axvline(x = mean_b - mean_a, color='black', lw=2)\n",
    "ax.text(50, 190, 'Observed\\ndifference', bbox={'facecolor':'white'})\n",
    "ax.set_xlabel('Session time differences (in seconds)')\n",
    "ax.set_ylabel('Frequency')"
   ]
  },
  {
   "cell_type": "markdown",
   "metadata": {},
   "source": [
    "The histogram, shown in Figure 3-4 shows that mean difference of random\n",
    "permutations often exceeds the observed difference in session times (the vertical\n",
    "line). This suggests that the oberved difference in session time between page A\n",
    "and page B is well within the range of chance variation, thus is not statistically\n",
    "significant."
   ]
  },
  {
   "cell_type": "markdown",
   "metadata": {},
   "source": [
    "### Exhaustive and Bootstrap Permutation Test"
   ]
  },
  {
   "cell_type": "markdown",
   "metadata": {},
   "source": [
    "In addition to the preceding random shuffling procedure, also called a random\n",
    "permutation test or a randomization test, there are two variants of the\n",
    "permutation test:  \n",
    "An exhaustive permutation test  \n",
    "A bootstrap permutation test  \n",
    "\n",
    "\n",
    "\n"
   ]
  },
  {
   "cell_type": "markdown",
   "metadata": {},
   "source": [
    "In an exhaustive permutation test, instead of just randomly shuffling and dividing\n",
    "the data, we actually figure out all the possible ways it could be divided. This is\n",
    "practical only for relatively small sample sizes. With a large number of repeated\n",
    "shufflings, the random permutation test results approximate those of the exhaustive\n",
    "permutation test, and approach them in the limit. Exhaustive permutation tests are\n",
    "also sometimes called exact tests, due to their statistical property of guaranteeing\n",
    "that the null model will not test as “significant” more than the alpha level of the\n",
    "test (see “Statistical Significance and P-Values”).\n",
    "\n",
    "In a bootstrap permutation test, the draws outlined in steps 2 and 3 of the random\n",
    "permutation test are made with replacement instead of without replacement. In\n",
    "this way the resampling procedure models not just the random element in the\n",
    "assignment of treatment to subject, but also the random element in the selection of\n",
    "subjects from a population. Both procedures are encountered in statistics, and the\n",
    "distinction between them is somewhat convoluted and not of consequence in the\n",
    "practice of data science."
   ]
  },
  {
   "cell_type": "markdown",
   "metadata": {},
   "source": [
    "### Permutation Tests: The Bottom Line for Data Science\n",
    "\n",
    "Permutation tests are useful heuristic procedures for exploring the role of random\n",
    "variation. They are relatively easy to code, interpret and explain, and they offer a\n",
    "useful detour around the formalism and “false determinism” of formula-based\n",
    "statistics.\n",
    "\n",
    "One virtue of resampling, in contrast to formula approaches, is that it comes much\n",
    "closer to a “one size fits all” approach to inference. Data can be numeric or\n",
    "binary. Sample sizes can be the same or different. Assumptions about normally distributed\n",
    "data are not needed.\n",
    "\n",
    "KEY IDEAS\n",
    "\n",
    "In a permutation test, multiple samples are combined, then shuffled.  \n",
    "The shuffled values are then divided into resamples, and the statistic of interest is calculated.  \n",
    "This process is then repeated, and the resampled statistic is tabulated.  \n",
    "Comparing the observed value of the statistic to the resampled distribution allows you to judge\n",
    "whether an observed difference between samples might occur by chance."
   ]
  },
  {
   "cell_type": "markdown",
   "metadata": {},
   "source": [
    "## 4. Statistical Significance and P-Values\n",
    "\n",
    "Statistical significance is how statisticians measure whether an experiment (or\n",
    "even a study of existing data) yields a result more extreme than what chance might\n",
    "produce. If the result is beyond the realm of chance variation, it is said to be\n",
    "statistically significant."
   ]
  },
  {
   "cell_type": "markdown",
   "metadata": {},
   "source": [
    "KEY TERMS\n",
    "\n",
    "P-value:\n",
    "Given a chance model that embodies the null hypothesis, the p-value is the probability of obtaining\n",
    "results as unusual or extreme as the observed results.  \n",
    "Alpha:\n",
    "The probability threshold of “unusualness” that chance results must surpass, for actual outcomes\n",
    "to be deemed statistically significant.  \n",
    "Type 1 error:\n",
    "Mistakenly concluding an effect is real (when it is due to chance).  \n",
    "Type 2 error:\n",
    "Mistakenly concluding an effect is due to chance (when it is real)."
   ]
  },
  {
   "cell_type": "markdown",
   "metadata": {},
   "source": [
    "The following\n",
    "permutation procedure asks “if the two prices share the same conversion rate,\n",
    "could chance variation produce a difference as big as 5%?”\n",
    "\n",
    "1. Create an urn with all sample results: this represents the supposed shared\n",
    "conversion rate of 382 ones and 45,945 zeros = 0.008246 = 0.8246%.\n",
    "2. Shuffle and draw out a resample of size 23,739 (same n as price A), and\n",
    "record how many 1s.\n",
    "3. Record the number of 1s in the remaining 22,588 (same n as price B).\n",
    "4. Record the difference in proportion 1s.\n",
    "5. Repeat steps 2–4.\n",
    "6. How often was the difference >= 0.0368?"
   ]
  },
  {
   "cell_type": "code",
   "execution_count": 11,
   "metadata": {},
   "outputs": [
    {
     "name": "stdout",
     "output_type": "stream",
     "text": [
      "Observed difference: 0.0368%\n"
     ]
    },
    {
     "data": {
      "text/plain": [
       "Text(0, 0.5, 'Frequency')"
      ]
     },
     "execution_count": 11,
     "metadata": {},
     "output_type": "execute_result"
    },
    {
     "data": {
      "image/png": "[encoded data removed]",
      "text/plain": [
       "<Figure size 360x360 with 1 Axes>"
      ]
     },
     "metadata": {
      "needs_background": "light"
     },
     "output_type": "display_data"
    }
   ],
   "source": [
    "random.seed(1)\n",
    "obs_pct_diff = 100 * (200 / 23739 - 182 / 22588)\n",
    "print(f'Observed difference: {obs_pct_diff:.4f}%')\n",
    "conversion = [0] * 45945\n",
    "conversion.extend([1] * 382)\n",
    "conversion = pd.Series(conversion)\n",
    "\n",
    "perm_diffs = [100 * perm_fun(conversion, 23739, 22588) \n",
    "              for _ in range(1000)]\n",
    "\n",
    "fig, ax = plt.subplots(figsize=(5, 5))\n",
    "ax.hist(perm_diffs, bins=11, rwidth=0.9)\n",
    "ax.axvline(x=obs_pct_diff, color='black', lw=2)\n",
    "ax.text(0.06, 200, 'Observed\\ndifference', bbox={'facecolor':'white'})\n",
    "ax.set_xlabel('Conversion rate (percent)')\n",
    "ax.set_ylabel('Frequency')"
   ]
  },
  {
   "cell_type": "markdown",
   "metadata": {},
   "source": [
    "See the histogram of 1,000 resampled results in Figure 3-5: as it happens, in this\n",
    "case the observed difference of 0.0368% is well within the range of chance\n",
    "variation."
   ]
  },
  {
   "cell_type": "markdown",
   "metadata": {},
   "source": [
    "### P-value\n",
    "\n",
    "Simply looking at the graph is not a very precise way to measure statistical\n",
    "significance, so of more interest is the p-value. This is the frequency with which\n",
    "the chance model produces a result more extreme than the observed result. We can\n",
    "estimate a p-value from our permutation test by taking the proportion of times that\n",
    "the permutation test produces a difference equal to or greater than the observed\n",
    "difference:"
   ]
  },
  {
   "cell_type": "code",
   "execution_count": 14,
   "metadata": {},
   "outputs": [
    {
     "name": "stdout",
     "output_type": "stream",
     "text": [
      "0.332\n"
     ]
    }
   ],
   "source": [
    "# The p-value is 0.332, which means that we would expect to achieve the same\n",
    "# result by random chance over 33% of the time.\n",
    "\n",
    "# If `np.mean` is applied to a list of booleans, it gives the percentage of how often True was found in the list (#True / #Total).\n",
    "print(np.mean([diff > obs_pct_diff for diff in perm_diffs])) "
   ]
  },
  {
   "cell_type": "markdown",
   "metadata": {},
   "source": [
    "The p-value is 0.332, which means that we would expect to achieve the same\n",
    "result by random chance over 33% of the time. In this case, we didn’t need to use a permutation test to get a p-value. Since we\n",
    "have a binomial distribution, we can approximate the p-value using the normal\n",
    "distribution"
   ]
  },
  {
   "cell_type": "code",
   "execution_count": 15,
   "metadata": {},
   "outputs": [
    {
     "name": "stdout",
     "output_type": "stream",
     "text": [
      "p-value for single sided test: 0.3498\n"
     ]
    }
   ],
   "source": [
    "survivors = np.array([[200, 23739 - 200], [182, 22588 - 182]])\n",
    "chi2, p_value, df, _ = stats.chi2_contingency(survivors)\n",
    "\n",
    "print(f'p-value for single sided test: {p_value / 2:.4f}')"
   ]
  },
  {
   "cell_type": "markdown",
   "metadata": {},
   "source": [
    "The normal approximation yields a p-value of 0.3498, which\n",
    "is close to the p-value obtained from the permutation test."
   ]
  },
  {
   "cell_type": "markdown",
   "metadata": {},
   "source": [
    "### Alpha\n",
    "\n",
    "Statisticians frown on the practice of leaving it to the researcher’s discretion to\n",
    "determine whether a result is “too unusual” to happen by chance. Rather, a threshold is specified in advance, as in “more extreme than 5% of the chance (null\n",
    "hypothesis) results”; this threshold is known as alpha. Typical alpha levels are\n",
    "5% and 1%.\n",
    "\n",
    "the probability question being answered is not “what is the probability that this\n",
    "happened by chance?” but rather “given a chance model, what is the probability of\n",
    "a result this extreme?”"
   ]
  },
  {
   "cell_type": "markdown",
   "metadata": {},
   "source": [
    "### Value of P-value\n",
    "\n",
    "Here’s what we would like the p-value to convey:\n",
    "The probability that the result is due to chance.\n",
    "We hope for a low value, so we can conclude that we’ve proved something.\n",
    "\n",
    "But here’s what the pvalue\n",
    "actually represents:\n",
    "The probability that, given a chance model, results as extreme as the observed\n",
    "results could occur.\n",
    "\n",
    "1. P-values can indicate how incompatible the data are with a specified\n",
    "statistical model.\n",
    "2. P-values do not measure the probability that the studied hypothesis is\n",
    "true, or the probability that the data were produced by random chance\n",
    "alone.\n",
    "3. Scientific conclusions and business or policy decisions should not be\n",
    "based only on whether a p-value passes a specific threshold.\n",
    "4. Proper inference requires full reporting and transparency.\n",
    "5. A p-value, or statistical significance, does not measure the size of an\n",
    "effect or the importance of a result.\n",
    "6. By itself, a p-value does not provide a good measure of evidence\n",
    "regarding a model or hypothesis."
   ]
  },
  {
   "cell_type": "markdown",
   "metadata": {},
   "source": [
    "### Type 1 and 2 errors\n",
    "\n",
    "Type 2 error is not so much an error as a judgment that the sample size\n",
    "is too small to detect the effect. When a p-value falls short of statistical\n",
    "significance (e.g., it exceeds 5%), what we are really saying is “effect not\n",
    "proven.” It could be that a larger sample would yield a smaller p-value.\n",
    "\n",
    "The basic function of significance tests (also called hypothesis tests) is to protect\n",
    "against being fooled by random chance; thus they are typically structured to\n",
    "minimize Type 1 errors."
   ]
  },
  {
   "cell_type": "markdown",
   "metadata": {},
   "source": [
    "### Data science and P-value\n",
    "\n",
    "For a data scientist, a p-value is a useful metric in situations where you\n",
    "want to know whether a model result that appears interesting and useful is within\n",
    "the range of normal chance variability. As a decision tool in an experiment, a p-value\n",
    "should not be considered controlling, but merely another point of\n",
    "information bearing on a decision. For example, p-values are sometimes used as\n",
    "intermediate inputs in some statistical or machine learning models — a feature\n",
    "might be included in or excluded from a model depending on its p-value."
   ]
  },
  {
   "cell_type": "markdown",
   "metadata": {},
   "source": [
    "## 5. t-Tests"
   ]
  },
  {
   "cell_type": "markdown",
   "metadata": {},
   "source": [
    "There are numerous types of significance tests, depending on whether the data\n",
    "comprises count data or measured data, how many samples there are, and what’s\n",
    "being measured. A very common one is the t-test, named after Student’s t-distribution\n",
    "\n",
    "KEY TERMS\n",
    "\n",
    "Test statistic:\n",
    "A metric for the difference or effect of interest.  \n",
    "t-statistic:\n",
    "A standardized version of the test statistic.  \n",
    "t-distribution:\n",
    "A reference distribution (in this case derived from the null hypothesis), to which the observed tstatistic\n",
    "can be compared."
   ]
  },
  {
   "cell_type": "markdown",
   "metadata": {},
   "source": [
    "All significance tests require that you specify a test statistic to measure the effect\n",
    "you are interested in, and help you determine whether that observed effect lies\n",
    "within the range of normal chance variation. In a resampling test (see the\n",
    "discussion of permutation in “Permutation Test”), the scale of the data does not\n",
    "matter. You create the reference (null hypothesis) distribution from the data itself,\n",
    "and use the test statistic as is.\n",
    "\n",
    "Statisticians found that a good approximation to the permutation (shuffled)\n",
    "distribution was the t-test, based on Gossett’s t-distribution. It is used for the very\n",
    "common two-sample comparison — A/B test — in which the data is numeric. But\n",
    "in order for the t-distribution to be used without regard to scale, a standardized\n",
    "form of the test statistic must be used.\n",
    "\n",
    "KEY IDEAS\n",
    "\n",
    "Before the advent of computers, resampling tests were not practical and statisticians used standard\n",
    "reference distributions.  \n",
    "A test statistic could then be standardized and compared to the reference distribution.  \n",
    "One such widely used standardized statistic is the t-statistic."
   ]
  },
  {
   "cell_type": "code",
   "execution_count": 16,
   "metadata": {},
   "outputs": [
    {
     "name": "stdout",
     "output_type": "stream",
     "text": [
      "p-value for single sided test: 0.1408\n"
     ]
    }
   ],
   "source": [
    "res = stats.ttest_ind(session_times[session_times.Page == 'Page A'].Time, \n",
    "                      session_times[session_times.Page == 'Page B'].Time,\n",
    "                      equal_var=False)\n",
    "print(f'p-value for single sided test: {res.pvalue / 2:.4f}')"
   ]
  },
  {
   "cell_type": "code",
   "execution_count": 17,
   "metadata": {},
   "outputs": [
    {
     "name": "stdout",
     "output_type": "stream",
     "text": [
      "p-value: 0.1408\n"
     ]
    }
   ],
   "source": [
    "tstat, pvalue, df = sm.stats.ttest_ind(\n",
    "    session_times[session_times.Page == 'Page A'].Time, \n",
    "    session_times[session_times.Page == 'Page B'].Time,\n",
    "    usevar='unequal', alternative='smaller')\n",
    "print(f'p-value: {pvalue:.4f}')"
   ]
  },
  {
   "cell_type": "markdown",
   "metadata": {},
   "source": [
    "## 6. ANOVA"
   ]
  },
  {
   "cell_type": "markdown",
   "metadata": {},
   "source": [
    "Suppose that, instead of an A/B test, we had a comparison of multiple groups, say\n",
    "A-B-C-D, each with numeric data. The statistical procedure that tests for a\n",
    "statistically significant difference among the groups is called analysis of\n",
    "variance, or ANOVA."
   ]
  },
  {
   "cell_type": "markdown",
   "metadata": {},
   "source": [
    "KEY TERMS FOR ANOVA\n",
    "\n",
    "Pairwise comparison: \n",
    "A hypothesis test (e.g., of means) between two groups among multiple groups.  \n",
    "Omnibus test:\n",
    "A single hypothesis test of the overall variance among multiple group means.  \n",
    "Decomposition of variance:\n",
    "Separation of components. contributing to an individual value (e.g., from the overall average, from\n",
    "a treatment mean, and from a residual error).  \n",
    "F-statistic:\n",
    "A standardized statistic that measures the extent to which differences among group means\n",
    "exceeds what might be expected in a chance model.  \n",
    "SS:\n",
    "“Sum of squares,” referring to deviations from some average value."
   ]
  },
  {
   "cell_type": "markdown",
   "metadata": {},
   "source": [
    "Table 3-3 shows the stickiness of four web pages, in numbers of seconds spent on\n",
    "the page. The four pages are randomly switched out so that each web visitor\n",
    "receives one at random. There are a total of five visitors for each page, and, in\n",
    "Table 3-3, each column is an independent set of data. The first viewer for page 1\n",
    "has no connection to the first viewer for page 2. Note that in a web test like this,\n",
    "we cannot fully implement the classic randomized sampling design in which each\n",
    "visitor is selected at random from some huge population. We must take the visitors\n",
    "as they come. Visitors may systematically differ depending on time of day, time of\n",
    "week, season of the year, conditions of their internet, what device they are using,\n",
    "and so on. These factors should be considered as potential bias when the\n",
    "experiment results are reviewed."
   ]
  },
  {
   "cell_type": "code",
   "execution_count": 56,
   "metadata": {},
   "outputs": [
    {
     "data": {
      "text/html": [
       "<div>\n",
       "<style scoped>\n",
       "    .dataframe tbody tr th:only-of-type {\n",
       "        vertical-align: middle;\n",
       "    }\n",
       "\n",
       "    .dataframe tbody tr th {\n",
       "        vertical-align: top;\n",
       "    }\n",
       "\n",
       "    .dataframe thead th {\n",
       "        text-align: right;\n",
       "    }\n",
       "</style>\n",
       "<table border=\"1\" class=\"dataframe\">\n",
       "  <thead>\n",
       "    <tr style=\"text-align: right;\">\n",
       "      <th></th>\n",
       "      <th>Page 1</th>\n",
       "      <th>Page 2</th>\n",
       "      <th>Page 3</th>\n",
       "      <th>Page 4</th>\n",
       "    </tr>\n",
       "  </thead>\n",
       "  <tbody>\n",
       "    <tr>\n",
       "      <th>0</th>\n",
       "      <td>164</td>\n",
       "      <td>178</td>\n",
       "      <td>175</td>\n",
       "      <td>155</td>\n",
       "    </tr>\n",
       "    <tr>\n",
       "      <th>1</th>\n",
       "      <td>172</td>\n",
       "      <td>191</td>\n",
       "      <td>193</td>\n",
       "      <td>166</td>\n",
       "    </tr>\n",
       "    <tr>\n",
       "      <th>2</th>\n",
       "      <td>177</td>\n",
       "      <td>182</td>\n",
       "      <td>171</td>\n",
       "      <td>164</td>\n",
       "    </tr>\n",
       "    <tr>\n",
       "      <th>3</th>\n",
       "      <td>156</td>\n",
       "      <td>185</td>\n",
       "      <td>163</td>\n",
       "      <td>170</td>\n",
       "    </tr>\n",
       "    <tr>\n",
       "      <th>4</th>\n",
       "      <td>195</td>\n",
       "      <td>177</td>\n",
       "      <td>176</td>\n",
       "      <td>168</td>\n",
       "    </tr>\n",
       "  </tbody>\n",
       "</table>\n",
       "</div>"
      ],
      "text/plain": [
       "   Page 1  Page 2  Page 3  Page 4\n",
       "0     164     178     175     155\n",
       "1     172     191     193     166\n",
       "2     177     182     171     164\n",
       "3     156     185     163     170\n",
       "4     195     177     176     168"
      ]
     },
     "execution_count": 56,
     "metadata": {},
     "output_type": "execute_result"
    }
   ],
   "source": [
    "# Table 3-3\n",
    "\n",
    "four_sessions = pd.read_csv(FOUR_SESSIONS_CSV)\n",
    "\n",
    "pd.DataFrame({\"Page 1\": four_sessions.loc[four_sessions.Page == 'Page 1', 'Time'].reset_index(drop=True),\n",
    "\"Page 2\": four_sessions.loc[four_sessions.Page == 'Page 2', 'Time'].reset_index(drop=True),\n",
    "\"Page 3\": four_sessions.loc[four_sessions.Page == 'Page 3', 'Time'].reset_index(drop=True),\n",
    "\"Page 4\": four_sessions.loc[four_sessions.Page == 'Page 4', 'Time'].reset_index(drop=True),\n",
    "})"
   ]
  },
  {
   "cell_type": "code",
   "execution_count": 53,
   "metadata": {},
   "outputs": [
    {
     "data": {
      "text/plain": [
       "Text(0.5, 1.0, '')"
      ]
     },
     "execution_count": 53,
     "metadata": {},
     "output_type": "execute_result"
    },
    {
     "data": {
      "image/png": "[encoded data removed]",
      "text/plain": [
       "<Figure size 288x288 with 1 Axes>"
      ]
     },
     "metadata": {
      "needs_background": "light"
     },
     "output_type": "display_data"
    }
   ],
   "source": [
    "# Boxplots of the four groups show considerable differences among them\n",
    "\n",
    "ax = four_sessions.boxplot(by='Page', column='Time',\n",
    "                           figsize=(4, 4))\n",
    "ax.set_xlabel('Page')\n",
    "ax.set_ylabel('Time (in seconds)')\n",
    "plt.suptitle('')\n",
    "plt.title('')"
   ]
  },
  {
   "cell_type": "code",
   "execution_count": 41,
   "metadata": {},
   "outputs": [],
   "source": [
    "# pd.pivot_table(four_sessions, values='Time', index=['Page'],\n",
    "#                     columns=['Page'])\n",
    "\n"
   ]
  },
  {
   "cell_type": "markdown",
   "metadata": {},
   "source": [
    "The more such pairwise comparisons we make, the greater the potential for being\n",
    "fooled by random chance (see “Multiple Testing”). Instead of worrying about all\n",
    "the different comparisons between individual pages we could possibly make, we\n",
    "can do a single overall omnibus test that addresses the question, “Could all the\n",
    "pages have the same underlying stickiness, and the differences among them be due\n",
    "to the random way in which a common set of session times got allocated among\n",
    "the four pages?”\n",
    "\n",
    "The procedure used to test this is ANOVA. The basis for it can be seen in the\n",
    "following resampling procedure (specified here for the A-B-C-D test of web page\n",
    "stickiness):\n",
    "1. Combine all the data together in a single box\n",
    "2. Shuffle and draw out four resamples of five values each\n",
    "3. Record the mean of each of the four groups\n",
    "4. Record the variance among the four group means\n",
    "5. Repeat steps 2–4 many times (say 1,000)"
   ]
  },
  {
   "cell_type": "code",
   "execution_count": 57,
   "metadata": {},
   "outputs": [
    {
     "name": "stdout",
     "output_type": "stream",
     "text": [
      "Observed means: [172.8 182.6 175.6 164.6]\n",
      "Variance: 55.426666666666655\n",
      "25.400000000000034\n"
     ]
    }
   ],
   "source": [
    "observed_variance = four_sessions.groupby('Page').mean().var()[0]\n",
    "print('Observed means:', four_sessions.groupby('Page').mean().values.ravel())\n",
    "print('Variance:', observed_variance)\n",
    "# Permutation test example with stickiness\n",
    "def perm_test(df):\n",
    "    df = df.copy()\n",
    "    df['Time'] = np.random.permutation(df['Time'].values)\n",
    "    return df.groupby('Page').mean().var()[0]\n",
    "    \n",
    "print(perm_test(four_sessions))"
   ]
  },
  {
   "cell_type": "code",
   "execution_count": 65,
   "metadata": {},
   "outputs": [
    {
     "name": "stdout",
     "output_type": "stream",
     "text": [
      "Pr(Prob) 0.07533333333333334\n"
     ]
    },
    {
     "data": {
      "text/plain": [
       "Text(0, 0.5, 'Frequency')"
      ]
     },
     "execution_count": 65,
     "metadata": {},
     "output_type": "execute_result"
    },
    {
     "data": {
      "image/png": "[encoded data removed]",
      "text/plain": [
       "<Figure size 360x360 with 1 Axes>"
      ]
     },
     "metadata": {
      "needs_background": "light"
     },
     "output_type": "display_data"
    }
   ],
   "source": [
    "random.seed(1)\n",
    "perm_variance = [perm_test(four_sessions) for _ in range(3000)]\n",
    "print('Pr(Prob)', np.mean([var > observed_variance for var in perm_variance]))\n",
    "\n",
    "fig, ax = plt.subplots(figsize=(5, 5))\n",
    "ax.hist(perm_variance, bins=11, rwidth=0.9)\n",
    "ax.axvline(x = observed_variance, color='black', lw=2)\n",
    "ax.text(60, 200, 'Observed\\nvariance', bbox={'facecolor':'white'})\n",
    "ax.set_xlabel('Variance')\n",
    "ax.set_ylabel('Frequency')"
   ]
  },
  {
   "cell_type": "markdown",
   "metadata": {},
   "source": [
    "### F-statistic"
   ]
  },
  {
   "cell_type": "markdown",
   "metadata": {},
   "source": [
    "Just like the t-test can be used instead of a permutation test for comparing the mean\n",
    "of two groups, there is a statistical test for ANOVA based on the F-statistic. F-statistic is based on the ratio of the variance across group means (i.e., the\n",
    "treatment effect) to the variance due to residual error. The higher this ratio, the\n",
    "more statistically significant the result. If the data follows a normal distribution,\n",
    "then statistical theory dictates that the statistic should have a certain distribution.\n",
    "Based on this, it is possible to compute a p-value."
   ]
  },
  {
   "cell_type": "code",
   "execution_count": 66,
   "metadata": {},
   "outputs": [
    {
     "name": "stdout",
     "output_type": "stream",
     "text": [
      "            df  sum_sq     mean_sq         F    PR(>F)\n",
      "Page       3.0   831.4  277.133333  2.739825  0.077586\n",
      "Residual  16.0  1618.4  101.150000       NaN       NaN\n"
     ]
    }
   ],
   "source": [
    "model = smf.ols('Time ~ Page', data=four_sessions).fit()\n",
    "                \n",
    "aov_table = sm.stats.anova_lm(model)\n",
    "print(aov_table)"
   ]
  },
  {
   "cell_type": "code",
   "execution_count": 67,
   "metadata": {},
   "outputs": [
    {
     "name": "stdout",
     "output_type": "stream",
     "text": [
      "F-Statistic: 1.3699\n",
      "p-value: 0.0388\n"
     ]
    }
   ],
   "source": [
    "res = stats.f_oneway(four_sessions[four_sessions.Page == 'Page 1'].Time, \n",
    "                     four_sessions[four_sessions.Page == 'Page 2'].Time,\n",
    "                     four_sessions[four_sessions.Page == 'Page 3'].Time,\n",
    "                     four_sessions[four_sessions.Page == 'Page 4'].Time)\n",
    "print(f'F-Statistic: {res.statistic / 2:.4f}')\n",
    "print(f'p-value: {res.pvalue / 2:.4f}')"
   ]
  },
  {
   "cell_type": "markdown",
   "metadata": {},
   "source": [
    "### Two-Way ANOVA\n",
    "\n",
    "The A-B-C-D test just described is a “one-way” ANOVA, in which we have one\n",
    "factor (group) that is varying. We could have a second factor involved — say,\n",
    "“weekend versus weekday” — with data collected on each combination (group A\n",
    "weekend, group A weekday, group B weekend, etc.). This would be a “two-way\n",
    "ANOVA,” and we would handle it in similar fashion to the one-way ANOVA by\n",
    "identifying the “interaction effect.” After identifying the grand average effect, and\n",
    "the treatment effect, we then separate the weekend and the weekday observations\n",
    "for each group, and find the difference between the averages for those subsets and\n",
    "the treatment average.\n",
    "\n",
    "Two-way anova only available with statsmodels\n",
    "```\n",
    "formula = 'len ~ C(supp) + C(dose) + C(supp):C(dose)'\n",
    "model = ols(formula, data).fit()\n",
    "aov_table = anova_lm(model, typ=2)\n",
    "```"
   ]
  },
  {
   "cell_type": "markdown",
   "metadata": {},
   "source": [
    "KEY IDEAS\n",
    "\n",
    "ANOVA is a statistical proecdure for analyzing the results of an experiment with multiple groups.  \n",
    "It is the extension of similar procedures for the A/B test, used to assess whether the overall\n",
    "variation among groups is within the range of chance variation.  \n",
    "A useful outcome of an ANOVA is the identification of variance components associated with group\n",
    "treatments, interaction effects, and errors."
   ]
  },
  {
   "cell_type": "markdown",
   "metadata": {},
   "source": [
    "## 7. Power and sample size"
   ]
  },
  {
   "cell_type": "markdown",
   "metadata": {},
   "source": [
    "If you run a web test, how do you decide how long it should run (i.e., how many\n",
    "impressions per treatment are needed)? Despite what you may read in many\n",
    "guides to web testing on the web, there is no good general guidance — it depends,\n",
    "mainly, on the frequency with which the desired goal is attained.\n",
    "\n",
    "KEY TERMS\n",
    "\n",
    "Effect size:\n",
    "The minimum size of the effect that you hope to be able to detect in a statistical test, such as “a\n",
    "20% improvement in click rates”.  \n",
    "Power:\n",
    "The probability of detecting a given effect size with a given sample size.  \n",
    "Significance level:\n",
    "The statistical significance level at which the test will be conducted."
   ]
  },
  {
   "cell_type": "markdown",
   "metadata": {},
   "source": [
    "One step in statistical calculations for sample size is to ask “Will a hypothesis test\n",
    "actually reveal a difference between treatments A and B?” The outcome of a\n",
    "hypothesis test — the p-value — depends on what the real difference is between\n",
    "treatment A and treatment B. It also depends on the luck of the draw — who gets\n",
    "selected for the groups in the experiment. But it makes sense that the bigger the\n",
    "actual difference between treatments A and B, the greater the probability that our\n",
    "experiment will reveal it; and the smaller the difference, the more data will be\n",
    "needed to detect it. To distinguish between a .350 hitter in baseball, and a .200\n",
    "hitter, not that many at-bats are needed. To distinguish between a .300 hitter and a\n",
    ".280 hitter, a good many more at-bats will be needed."
   ]
  },
  {
   "cell_type": "markdown",
   "metadata": {},
   "source": [
    "Power is the probability of detecting a specified effect size with specified sample\n",
    "characteristics (size and variability). For example, we might say (hypothetically)\n",
    "that the probability of distinguishing between a .330 hitter and a .200 hitter in 25\n",
    "at-bats is 0.75. The effect size here is a difference of .130. And “detecting” means\n",
    "that a hypothesis test will reject the null hypothesis of “no difference” and\n",
    "conclude there is a real effect. So the experiment of 25 at-bats (n = 25) for two\n",
    "hitters, with an effect size of 0.130, has (hypothetical) power of 0.75 or 75%."
   ]
  },
  {
   "cell_type": "markdown",
   "metadata": {},
   "source": [
    "Here’s a fairly intuitive alternative approach:\n",
    "1. Start with some hypothetical data that represents your best guess about\n",
    "the data that will result (perhaps based on prior data) — for example, a\n",
    "box with 20 ones and 80 zeros to represent a .200 hitter, or a box with\n",
    "some observations of “time spent on website.”\n",
    "2. Create a second sample simply by adding the desired effect size to the\n",
    "first sample — for example, a second box with 33 ones and 67 zeros, or\n",
    "a second box with 25 seconds added to each initial “time spent on\n",
    "website.”\n",
    "3. Draw a bootstrap sample of size n from each box.\n",
    "4. Conduct a permutation (or formula-based) hypothesis test on the two\n",
    "bootstrap samples and record whether the difference between them is\n",
    "statistically significant.\n",
    "5. Repeat the preceding two steps many times and determine how often the\n",
    "difference was significant — that’s the estimated power."
   ]
  },
  {
   "cell_type": "markdown",
   "metadata": {},
   "source": [
    "### Sample size\n",
    "\n",
    "The most common use of power calculations is to estimate how big a sample you\n",
    "will need.\n",
    "\n",
    "For example, suppose you are looking at click-through rates (clicks as a\n",
    "percentage of exposures), and testing a new ad against an existing ad. How many\n",
    "clicks do you need to accumulate in the study? If you are only interested in results\n",
    "that show a huge difference (say a 50% difference), a relatively small sample\n",
    "might do the trick. If, on the other hand, even a minor difference would be of\n",
    "interest, then a much larger sample is needed. A standard approach is to establish\n",
    "a policy that a new ad must do better than an existing ad by some percentage, say\n",
    "10%; otherwise, the existing ad will remain in place. This goal, the “effect size,”\n",
    "then drives the sample size.\n",
    "\n",
    "for calculating power or required sample size, there are four moving\n",
    "parts:  \n",
    "Sample size  \n",
    "Effect size you want to detect  \n",
    "Significance level (alpha) at which the test will be conducted  \n",
    "Power\n",
    "\n",
    "Specify any three of them, and the fourth can be calculated. Most commonly, you\n",
    "would want to calculate sample size, so you must specify the other three."
   ]
  },
  {
   "cell_type": "code",
   "execution_count": 70,
   "metadata": {},
   "outputs": [
    {
     "name": "stdout",
     "output_type": "stream",
     "text": [
      "Sample Size: 116602.393\n"
     ]
    }
   ],
   "source": [
    "# statsmodels has a number of methods for power calculation\n",
    "\n",
    "# see e.g.: https://machinelearningmastery.com/statistical-power-and-power-analysis-in-python/\n",
    "\n",
    "effect_size = sm.stats.proportion_effectsize(0.0121, 0.011)\n",
    "analysis = sm.stats.TTestIndPower()\n",
    "result = analysis.solve_power(effect_size=effect_size, \n",
    "                              alpha=0.05, power=0.8, alternative='larger')\n",
    "print('Sample Size: %.3f' % result)"
   ]
  },
  {
   "cell_type": "code",
   "execution_count": 69,
   "metadata": {},
   "outputs": [
    {
     "name": "stdout",
     "output_type": "stream",
     "text": [
      "Sample Size: 5488.408\n"
     ]
    }
   ],
   "source": [
    "effect_size = sm.stats.proportion_effectsize(0.0165, 0.011)\n",
    "analysis = sm.stats.TTestIndPower()\n",
    "result = analysis.solve_power(effect_size=effect_size, \n",
    "                              alpha=0.05, power=0.8, alternative='larger')\n",
    "print('Sample Size: %.3f' % result)"
   ]
  },
  {
   "cell_type": "markdown",
   "metadata": {},
   "source": [
    "KEY IDEAS\n",
    "\n",
    "Finding out how big a sample size you need requires thinking ahead to the statistical test you plan to\n",
    "conduct.  \n",
    "You must specify the minimum size of the effect that you want to detect.  \n",
    "You must also specify the required probability of detecting that effect size (power).  \n",
    "Finally, you must specify the significance level (alpha) at which the test will be conducted."
   ]
  },
  {
   "cell_type": "markdown",
   "metadata": {},
   "source": [
    "## Summary\n",
    "\n",
    "The principles of experimental design — randomization of subjects into two or\n",
    "more groups receiving different treatments — allow us to draw valid conclusions\n",
    "about how well the treatments work. It is best to include a control treatment of\n",
    "“making no change.” The subject of formal statistical inference — hypothesis\n",
    "testing, p-values, t-tests, and much more along these lines — occupies much time\n",
    "and space in a traditional statistics course or text, and the formality is mostly\n",
    "unneeded from a data science perspective. However, it remains important to\n",
    "recognize the role that random variation can play in fooling the human brain.\n",
    "Intuitive resampling procedures (permutation and bootstrap) allow data scientists\n",
    "to gauge the extent to which chance variation can play a role in their data analysis."
   ]
  },
  {
   "cell_type": "markdown",
   "metadata": {},
   "source": []
  }
 ],
 "metadata": {
  "interpreter": {
   "hash": "4dd7b61bd20a2dd8a216762199d895c877245e26d7972026d58786b4b9c39df0"
  },
  "kernelspec": {
   "display_name": "Python 3.8.5 ('base')",
   "language": "python",
   "name": "python3"
  },
  "language_info": {
   "codemirror_mode": {
    "name": "ipython",
    "version": 3
   },
   "file_extension": ".py",
   "mimetype": "text/x-python",
   "name": "python",
   "nbconvert_exporter": "python",
   "pygments_lexer": "ipython3",
   "version": "3.8.5"
  },
  "orig_nbformat": 4
 },
 "nbformat": 4,
 "nbformat_minor": 2
}
