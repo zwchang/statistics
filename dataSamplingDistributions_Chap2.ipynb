{
 "cells": [
  {
   "cell_type": "markdown",
   "metadata": {},
   "source": [
    "# Data and Sampling Distributions"
   ]
  },
  {
   "cell_type": "markdown",
   "metadata": {},
   "source": [
    "A popular misconception holds that the era of big data means the end of a need for sampling. In fact, the proliferation of data of varying quality and relevance reinforces the need for sampling as a tool to work efficiently with a variety of data and to minimize bias. Even in a big data project, predictive models are typically developed and piloted with samples. Samples are also used in tests of various sorts.\n",
    "\n",
    "In general, data scientists need not worry about the theoretical nature of the population, and instead should focus on the sampling procedures and the data at hand. There are some notable exceptions. Sometimes data is generated from a physical process that can be modeled. The simplest example is flipping a coin: this follows a binomial distribution. Any real-life binomial situation (buy or don’t buy, fraud or no fraud, click or don’t click) can be modeled effectively by a coin (with modified probability of landing heads, of course). In these cases, we can gain additional insight by using our understanding of the population."
   ]
  },
  {
   "cell_type": "code",
   "execution_count": 1,
   "metadata": {},
   "outputs": [],
   "source": [
    "%matplotlib inline\n",
    "\n",
    "from pathlib import Path\n",
    "import pandas as pd\n",
    "import numpy as np\n",
    "from scipy import stats\n",
    "from sklearn.utils import resample\n",
    "\n",
    "import seaborn as sns\n",
    "import matplotlib.pylab as plt"
   ]
  },
  {
   "cell_type": "code",
   "execution_count": 2,
   "metadata": {},
   "outputs": [],
   "source": [
    "# define paths to datasets\n",
    "\n",
    "DATA = Path().resolve() / 'data' \n",
    "\n",
    "LOANS_INCOME_CSV = DATA / 'loans_income.csv'\n",
    "SP500_DATA_CSV = DATA / 'sp500_data.csv.gz'"
   ]
  },
  {
   "cell_type": "code",
   "execution_count": 3,
   "metadata": {},
   "outputs": [
    {
     "data": {
      "text/plain": [
       "<bound method _AxesBase.set_position of <AxesSubplot:>>"
      ]
     },
     "execution_count": 3,
     "metadata": {},
     "output_type": "execute_result"
    },
    {
     "data": {
      "image/png": "[encoded data removed]",
      "text/plain": [
       "<Figure size 360x108 with 2 Axes>"
      ]
     },
     "metadata": {
      "needs_background": "light"
     },
     "output_type": "display_data"
    }
   ],
   "source": [
    "# population versus sampling\n",
    "\n",
    "np.random.seed(seed=1)\n",
    "x = np.linspace(-3, 3, 300)\n",
    "xsample = stats.norm.rvs(size=1000)\n",
    "\n",
    "fig, axes = plt.subplots(ncols=2, figsize=(5, 1.5))\n",
    "\n",
    "ax = axes[0]\n",
    "ax.fill(x, stats.norm.pdf(x))\n",
    "ax.set_axis_off()\n",
    "ax.set_xlim(-3, 3)\n",
    "\n",
    "ax = axes[1]\n",
    "ax.hist(xsample, bins=30)\n",
    "ax.set_axis_off()\n",
    "ax.set_xlim(-3, 3)\n",
    "ax.set_position"
   ]
  },
  {
   "cell_type": "markdown",
   "metadata": {},
   "source": [
    "## 1. Random Sampling and Sample Bias"
   ]
  },
  {
   "cell_type": "markdown",
   "metadata": {},
   "source": [
    "Key terms:\n",
    "\n",
    "Sample: A subset from a larger data set.  \n",
    "Population: The larger data set or idea of a data set.  \n",
    "N(n): The size of the population (sample).  \n",
    "Random sampling: Drawing elements into a sample at random.  \n",
    "Stratified sampling: Dividing the population into strata and randomly sampling from each strata.  \n",
    "Simple random sample: The sample that results from random sampling without stratifying the population.  \n",
    "Sample bias: A sample that misrepresents the population.  "
   ]
  },
  {
   "cell_type": "markdown",
   "metadata": {},
   "source": [
    "_Random sampling_ is a process in which each available member of the population being sampled has an equal chance of being chosen for the sample at each draw. The sample that results is called a _simple random sample_. Sampling can be done _with replacement_, in which observations are put back in the population after each draw for possible future reselection. Or it can be done _without replacement_, in which case observations, once selected, are unavailable for future draws.\n",
    "\n",
    "Data quality often matters more than data quantity when making an estimate or a model based on a sample. Data quality in data science involves completeness, consistency of format, cleanliness, and accuracy of individual data points. Statistics adds the notion of _representativeness_."
   ]
  },
  {
   "cell_type": "markdown",
   "metadata": {},
   "source": [
    "### Bias"
   ]
  },
  {
   "cell_type": "markdown",
   "metadata": {},
   "source": [
    "Sample bias: the sample was different in some meaningful _nonrandom_ way from the larger population it was meant to represent. The term nonrandom is important\n",
    "— hardly any sample, including random samples, will be exactly representative of the population. Sample bias occurs when the difference is meaningful, and can be expected to continue for other samples drawn in the same way as the first."
   ]
  },
  {
   "cell_type": "markdown",
   "metadata": {},
   "source": [
    "Statistical bias refers to measurement or sampling errors that are systematic and produced by the measurement or sampling process. _An important distinction should be made between errors due to random chance, and errors due to bias._"
   ]
  },
  {
   "cell_type": "markdown",
   "metadata": {},
   "source": [
    "Bias comes in different forms, and may be observable or invisible. When a result does suggest bias (e.g., by reference to a benchmark or actual values), it is often an indicator that a statistical or machine learning model has been misspecified, or an important variable left out."
   ]
  },
  {
   "cell_type": "markdown",
   "metadata": {},
   "source": [
    "### Random Selection"
   ]
  },
  {
   "cell_type": "markdown",
   "metadata": {},
   "source": [
    "To avoid sample bias, there are now a variety of methods to achieve representativeness, but at the heart of all of them lies _random sampling_."
   ]
  },
  {
   "cell_type": "markdown",
   "metadata": {},
   "source": [
    "### Size vs Quality: when does size matter?"
   ]
  },
  {
   "cell_type": "markdown",
   "metadata": {},
   "source": [
    "In the era of big data, it is sometimes surprising that smaller is better. Time and effort spent on random sampling not only reduce bias, but also allow greater attention to data exploration and data quality. For example, missing data and outliers may contain useful information. It might be prohibitively expensive to track down missing values or evaluate outliers in millions of records, but doing so in a sample of several thousand records may be feasible."
   ]
  },
  {
   "cell_type": "markdown",
   "metadata": {},
   "source": [
    "When are massive amounts of data needed? The classic scenario for the value of big data is when the data is not only big, but sparse as well."
   ]
  },
  {
   "cell_type": "markdown",
   "metadata": {},
   "source": [
    "### Sample Mean versus Population Mean"
   ]
  },
  {
   "cell_type": "markdown",
   "metadata": {},
   "source": [
    "The symbol x-bar is used to represent the mean of a sample from a population, whereas mu is used to represent the mean of a population. Why make the distinction? Information about samples is observed, and information about large populations is often inferred from smaller samples. Statisticians like to keep the two things separate in the symbology."
   ]
  },
  {
   "cell_type": "markdown",
   "metadata": {},
   "source": [
    "## 2. Selection Bias"
   ]
  },
  {
   "cell_type": "markdown",
   "metadata": {},
   "source": [
    "Selection bias refers to the practice of selectively choosing data — consciously or unconsciously — in a way that that leads to a conclusion that is misleading or ephemeral."
   ]
  },
  {
   "cell_type": "markdown",
   "metadata": {},
   "source": [
    "Key terms:\n",
    "\n",
    "Bias: Systematic error.  \n",
    "Data snooping: Extensive hunting through data in search of something interesting.  \n",
    "Vast search effect: Bias or nonreproducibility resulting from repeated data modeling, or modeling data with large numbers of predictor variables."
   ]
  },
  {
   "cell_type": "markdown",
   "metadata": {},
   "source": [
    "The difference between a phenomenon that you verify when you test a hypothesis using an experiment, versus a phenomenon that you discover by perusing available data can be illuminated with the following thought experiment. Imagine that someone tells you she can flip a coin and have it land heads on the next 10 tosses. You challenge her (the equivalent of an experiment), and she proceeds to toss it 10 times, all landing heads. Clearly you ascribe some special talent to her — the probability that 10 coin tosses will land heads just by chance is 1 in 1,000. Now imagine that the announcer at a sports stadium asks the 20,000 people in attendance each to toss a coin 10 times, and report to an usher if they get 10 heads in a row. The chance that somebody in the stadium will get 10 heads is extremely high (more than 99% — it’s 1 minus the probability that nobody gets 10 heads). Clearly, selecting, after the fact, the person (or persons) who gets 10 heads at the stadium does not indicate they have any special talent — it’s most likely luck."
   ]
  },
  {
   "cell_type": "markdown",
   "metadata": {},
   "source": [
    "If you repeatedly run different models and ask different questions with a large data set, you are bound to find something interesting. Is the result you found truly something\n",
    "interesting, or is it the chance outlier? This can be solved using a permutation test."
   ]
  },
  {
   "cell_type": "markdown",
   "metadata": {},
   "source": [
    "### Regression to the Mean"
   ]
  },
  {
   "cell_type": "markdown",
   "metadata": {},
   "source": [
    "Regression to the mean refers to a phenomenon involving successive measurements on a given variable: extreme observations tend to be followed by more central ones. Regression to the mean is a consequence of a particular form of selection bias. When we select the rookie with the best performance, skill and good luck are probably contributing. In his next season, the skill will still be there but, in most cases, the luck will not, so his performance will decline — it will regress."
   ]
  },
  {
   "cell_type": "markdown",
   "metadata": {},
   "source": [
    "Key ideas:\n",
    "\n",
    "Specifying a hypothesis, then collecting data following randomization and random sampling principles, ensures against bias.  \n",
    "All other forms of data analysis run the risk of bias resulting from the data collection/analysis process (repeated running of models in data mining, data snooping in research, and after-the-fact selection of interesting events)."
   ]
  },
  {
   "cell_type": "markdown",
   "metadata": {},
   "source": [
    "## 3. Sampling Distribution of a Statistic"
   ]
  },
  {
   "cell_type": "markdown",
   "metadata": {},
   "source": [
    "Key terms:\n",
    "\n",
    "Sample statistic: A metric calculated for a sample of data drawn from a larger population.  \n",
    "Data distribution: The frequency distribution of individual values in a data set.  \n",
    "Sampling distribution: The frequency distribution of a sample statistic over many samples or resamples.  \n",
    "Central limit theorem: The tendency of the sampling distribution to take on a normal shape as sample size rises.  \n",
    "Standard error: The variability (standard deviation) of a sample statistic over many samples (not to be confused with standard deviation, which, by itself, refers to variability of individual data values).  \n"
   ]
  },
  {
   "cell_type": "markdown",
   "metadata": {},
   "source": [
    "The distribution of a sample statistic such as the mean is likely to be more regular and bell-shaped than the distribution of the data itself. The larger the sample that the statistic is based on, the more this is true. Also, the larger the sample, the narrower the distribution of the sample statistic."
   ]
  },
  {
   "cell_type": "code",
   "execution_count": 4,
   "metadata": {},
   "outputs": [
    {
     "data": {
      "text/html": [
       "<div>\n",
       "<style scoped>\n",
       "    .dataframe tbody tr th:only-of-type {\n",
       "        vertical-align: middle;\n",
       "    }\n",
       "\n",
       "    .dataframe tbody tr th {\n",
       "        vertical-align: top;\n",
       "    }\n",
       "\n",
       "    .dataframe thead th {\n",
       "        text-align: right;\n",
       "    }\n",
       "</style>\n",
       "<table border=\"1\" class=\"dataframe\">\n",
       "  <thead>\n",
       "    <tr style=\"text-align: right;\">\n",
       "      <th></th>\n",
       "      <th>income</th>\n",
       "      <th>type</th>\n",
       "    </tr>\n",
       "  </thead>\n",
       "  <tbody>\n",
       "    <tr>\n",
       "      <th>40292</th>\n",
       "      <td>63000.0</td>\n",
       "      <td>Data</td>\n",
       "    </tr>\n",
       "    <tr>\n",
       "      <th>38959</th>\n",
       "      <td>92000.0</td>\n",
       "      <td>Data</td>\n",
       "    </tr>\n",
       "    <tr>\n",
       "      <th>17361</th>\n",
       "      <td>134000.0</td>\n",
       "      <td>Data</td>\n",
       "    </tr>\n",
       "    <tr>\n",
       "      <th>33996</th>\n",
       "      <td>52000.0</td>\n",
       "      <td>Data</td>\n",
       "    </tr>\n",
       "    <tr>\n",
       "      <th>26491</th>\n",
       "      <td>43000.0</td>\n",
       "      <td>Data</td>\n",
       "    </tr>\n",
       "  </tbody>\n",
       "</table>\n",
       "</div>"
      ],
      "text/plain": [
       "         income  type\n",
       "40292   63000.0  Data\n",
       "38959   92000.0  Data\n",
       "17361  134000.0  Data\n",
       "33996   52000.0  Data\n",
       "26491   43000.0  Data"
      ]
     },
     "execution_count": 4,
     "metadata": {},
     "output_type": "execute_result"
    }
   ],
   "source": [
    "loans_income = pd.read_csv(LOANS_INCOME_CSV, squeeze=True)\n",
    "\n",
    "sample_data = pd.DataFrame({\n",
    "    'income': loans_income.sample(1000),\n",
    "    'type': 'Data',\n",
    "})\n",
    "\n",
    "sample_mean_05 = pd.DataFrame({\n",
    "    'income': [loans_income.sample(5).mean() for _ in range(1000)],\n",
    "    'type': 'Mean of 5',\n",
    "})\n",
    "\n",
    "sample_mean_20 = pd.DataFrame({\n",
    "    'income': [loans_income.sample(20).mean() for _ in range(1000)],\n",
    "    'type': 'Mean of 20',\n",
    "})\n",
    "\n",
    "results = pd.concat([sample_data, sample_mean_05, sample_mean_20])\n",
    "results.head()"
   ]
  },
  {
   "cell_type": "code",
   "execution_count": 8,
   "metadata": {},
   "outputs": [
    {
     "data": {
      "text/plain": [
       "(3000, 2)"
      ]
     },
     "execution_count": 8,
     "metadata": {},
     "output_type": "execute_result"
    }
   ],
   "source": [
    "results.shape"
   ]
  },
  {
   "cell_type": "code",
   "execution_count": 5,
   "metadata": {},
   "outputs": [
    {
     "data": {
      "text/plain": [
       "<seaborn.axisgrid.FacetGrid at 0x7f973ab87be0>"
      ]
     },
     "execution_count": 5,
     "metadata": {},
     "output_type": "execute_result"
    },
    {
     "data": {
      "image/png": "[encoded data removed]",
      "text/plain": [
       "<Figure size 288x432 with 3 Axes>"
      ]
     },
     "metadata": {
      "needs_background": "light"
     },
     "output_type": "display_data"
    }
   ],
   "source": [
    "g = sns.FacetGrid(results, col='type', col_wrap=1, \n",
    "                  height=2, aspect=2)\n",
    "g.map(plt.hist, 'income', range=[0, 200000], bins=40)\n",
    "g.set_axis_labels('Income', 'Count')\n",
    "g.set_titles('{col_name}')"
   ]
  },
  {
   "cell_type": "markdown",
   "metadata": {},
   "source": [
    "The central limit theorem allows normal-approximation formulas like the t-distribution to be used in calculating sampling distributions for inference — that is, confidence intervals and hypothesis tests. Since formal hypothesis tests and confidence intervals play a small role in data science, and the bootstrap is available in any case, the central limit theorem is not so central in the practice of data science."
   ]
  },
  {
   "cell_type": "markdown",
   "metadata": {},
   "source": [
    "### Standard Error"
   ]
  },
  {
   "cell_type": "markdown",
   "metadata": {},
   "source": [
    "The standard error is a single metric that sums up the variability in the sampling distribution for a statistic. The validity of the standard error formula arises from the central limit theorem. In fact, you don’t need to rely on the central limit theorem to understand standard error. Consider the following approach to measure standard error:\n",
    "\n",
    "1. Collect a number of brand new samples from the population.\n",
    "2. For each new sample, calculate the statistic (e.g., mean).\n",
    "3. Calculate the standard deviation of the statistics computed in step 2; use this as your estimate of standard error.\n",
    "\n",
    "In practice, this approach of collecting new samples to estimate the standard error is typically not feasible. Fortunately, it turns out that it is not necessary to draw brand new samples; instead, you can use bootstrap resamples. In modern statistics, the bootstrap has become the standard way to to estimate standard error. It can be used for virtually any statistic and does not rely on the central limit theorem or other distributional assumptions."
   ]
  },
  {
   "cell_type": "markdown",
   "metadata": {},
   "source": [
    "Key ideas:\n",
    "\n",
    "The frequency distribution of a sample statistic tells us how that metric would turn out differently from sample to sample.  \n",
    "This sampling distribution can be estimated via the bootstrap, or via formulas that rely on the central limit theorem.  \n",
    "A key metric that sums up the variability of a sample statistic is its standard error."
   ]
  },
  {
   "cell_type": "markdown",
   "metadata": {},
   "source": [
    "### The Bootstrap"
   ]
  },
  {
   "cell_type": "markdown",
   "metadata": {},
   "source": [
    "One easy and effective way to estimate the sampling distribution of a statistic, or of model parameters, is to draw additional samples, with replacement, from the sample itself and recalculate the statistic or model for each resample. This procedure is called the bootstrap. \n",
    "\n",
    "Conceptually, you can imagine the bootstrap as replicating the original sample thousands or millions of times so that you have a hypothetical population that embodies all the knowledge from your original sample (it’s just larger). You can then draw samples from this hypothetical population for the purpose of estimating a sampling distribution."
   ]
  },
  {
   "cell_type": "markdown",
   "metadata": {},
   "source": [
    "Key terms:\n",
    "\n",
    "Bootstrap sample: A sample taken with replacement from an observed data set.  \n",
    "Resampling: The process of taking repeated samples from observed data; includes both bootstrap and permutation (shuffling) procedures."
   ]
  },
  {
   "cell_type": "markdown",
   "metadata": {},
   "source": [
    "In practice, it is not necessary to actually replicate the sample a huge number of times. We simply replace each observation after each draw; that is, we sample with replacement. In this way we effectively create an infinite population in which the probability of an element being drawn remains unchanged from draw to draw. The algorithm for a bootstrap resampling of the mean is as follows, for a sample of size n:\n",
    "\n",
    "1. Draw a sample value, record, replace it.\n",
    "2. Repeat n times.\n",
    "3. Record the mean of the n resampled values.\n",
    "4. Repeat steps 1–3 R times.\n",
    "5. Use the R results to:\n",
    "a. Calculate their standard deviation (this estimates sample mean standard error).\n",
    "b. Produce a histogram or boxplot.\n",
    "c. Find a confidence interval."
   ]
  },
  {
   "cell_type": "markdown",
   "metadata": {},
   "source": [
    "The bootstrap does not compensate for a small sample size; it does not create new data, nor does it fill in holes in an existing data set. It merely informs us about how lots of additional samples would behave when drawn from a population like our original sample."
   ]
  },
  {
   "cell_type": "markdown",
   "metadata": {},
   "source": [
    "### Resampling vs Bootstrapping"
   ]
  },
  {
   "cell_type": "markdown",
   "metadata": {},
   "source": [
    "Sometimes the term resampling is used synonymously with the term bootstrapping, as just outlined. More often, the term resampling also includes permutation procedures, where multiple samples are combined and the sampling may be done without replacement. In any case, the term bootstrap always implies sampling with replacement from an observed dataset."
   ]
  },
  {
   "cell_type": "markdown",
   "metadata": {},
   "source": [
    "Key ideas:\n",
    "\n",
    "The bootstrap (sampling with replacement from a data set) is a powerful tool for assessing the variability of a sample statistic.  \n",
    "The bootstrap can be applied in similar fashion in a wide variety of circumstances, without extensive study of mathematical approximations to sampling distributions.  \n",
    "It also allows us to estimate sampling distributions for statistics where no mathematical approximation has been developed.  \n",
    "When applied to predictive models, aggregating multiple bootstrap sample predictions (bagging) outperforms the use of a single model.  "
   ]
  },
  {
   "cell_type": "markdown",
   "metadata": {},
   "source": [
    "### Confidence Intervals"
   ]
  },
  {
   "cell_type": "markdown",
   "metadata": {},
   "source": [
    "Frequency tables, histograms, boxplots, and standard errors are all ways to understand the potential error in a sample estimate. Confidence intervals are another.\n",
    "\n",
    "Key terms:  \n",
    "Confidence level: The percentage of confidence intervals, constructed in the same way from the same population, expected to contain the statistic of interest.  \n",
    "Interval endpoints: The top and bottom of the confidence interval."
   ]
  },
  {
   "cell_type": "markdown",
   "metadata": {},
   "source": [
    "One way to think of a 90% confidence interval is as follows: it is the interval that encloses the central 90% of the bootstrap sampling distribution of a sample statistic. More generally, an x% confidence interval around a sample estimate should, on average, contain similar sample estimates x% of the time (when a similar sampling procedure is followed)."
   ]
  },
  {
   "cell_type": "markdown",
   "metadata": {},
   "source": [
    "Given a sample of size n, and a sample statistic of interest, the algorithm for a bootstrap confidence interval is as follows:\n",
    "1. Draw a random sample of size n with replacement from the data (a resample).\n",
    "2. Record the statistic of interest for the resample.\n",
    "3. Repeat steps 1–2 many (R) times.\n",
    "4. For an x% confidence interval, trim [(1 – [x/100]) / 2]% of the R resample results from either end of the distribution.\n",
    "5. The trim points are the endpoints of an x% bootstrap confidence interval."
   ]
  },
  {
   "cell_type": "code",
   "execution_count": 19,
   "metadata": {},
   "outputs": [
    {
     "name": "stdout",
     "output_type": "stream",
     "text": [
      "68760.51844\n",
      "55734.1\n"
     ]
    },
    {
     "data": {
      "text/plain": [
       "Text(0, 0.5, 'Counts')"
      ]
     },
     "execution_count": 19,
     "metadata": {},
     "output_type": "execute_result"
    },
    {
     "data": {
      "image/png": "[encoded data removed]",
      "text/plain": [
       "<Figure size 288x216 with 1 Axes>"
      ]
     },
     "metadata": {
      "needs_background": "light"
     },
     "output_type": "display_data"
    }
   ],
   "source": [
    "# Figure 2-9 shows a 90% confidence interval for the mean annual income of loan applicants, based on a sample of 20 for which the mean was $55836.\n",
    "\n",
    "print(loans_income.mean())\n",
    "np.random.seed(seed=3)  \n",
    "\n",
    "# create a sample of 20 loan income data\n",
    "sample20 = resample(loans_income, n_samples=20, replace=False)\n",
    "print(sample20.mean())\n",
    "results = []\n",
    "for nrepeat in range(500):  # R = 500\n",
    "    sample = resample(sample20)\n",
    "    results.append(sample.mean())\n",
    "results = pd.Series(results)\n",
    "\n",
    "confidence_interval = list(results.quantile([0.05, 0.95]))\n",
    "ax = results.plot.hist(bins=30, figsize=(4, 3))\n",
    "ax.plot(confidence_interval, [55, 55], color='black')\n",
    "for x in confidence_interval:\n",
    "    ax.plot([x, x], [0, 65], color='black')\n",
    "    ax.text(x, 70, f'{x:.0f}', \n",
    "            horizontalalignment='center', verticalalignment='center')\n",
    "ax.text(sum(confidence_interval) / 2, 60, '90% interval',\n",
    "        horizontalalignment='center', verticalalignment='center')\n",
    "\n",
    "meanIncome = results.mean()\n",
    "ax.plot([meanIncome, meanIncome], [0, 50], color='black', linestyle='--')\n",
    "ax.text(meanIncome, 10, f'Mean: {meanIncome:.0f}',\n",
    "        bbox=dict(facecolor='white', edgecolor='white', alpha=0.5),\n",
    "        horizontalalignment='center', verticalalignment='center')\n",
    "ax.set_ylim(0, 80)\n",
    "ax.set_ylabel('Counts')"
   ]
  },
  {
   "cell_type": "markdown",
   "metadata": {},
   "source": [
    "## 4. Normal Distribution"
   ]
  },
  {
   "cell_type": "markdown",
   "metadata": {},
   "source": [
    "Key items:\n",
    "\n",
    "Error: The difference between a data point and a predicted or average value.  \n",
    "Standardize: Subtract the mean and divide by the standard deviation.  \n",
    "z-score: The result of standardizing an individual data point.  \n",
    "Standard normal: A normal distribution with mean = 0 and standard deviation = 1.  \n",
    "QQ-Plot: A plot to visualize how close a sample distribution is to a normal distribution.  "
   ]
  },
  {
   "cell_type": "markdown",
   "metadata": {},
   "source": [
    "In a normal distribution, 68% of the data lies within one standard deviation of the mean, and 95% lies within two standard deviations. A standard normal distribution is one in which the units on the x-axis are expressed in terms of standard deviations away from the mean. To compare data to a standard normal distribution, you subtract the mean then divide by the\n",
    "standard deviation; this is also called normalization or standardization. The transformed value is termed a z-score, and the normal distribution is sometimes called the z-distribution."
   ]
  },
  {
   "cell_type": "markdown",
   "metadata": {},
   "source": [
    "A QQ-Plot is used to visually determine how close a sample is to the normal\n",
    "distribution. The QQ-Plot orders the z-scores from low to high, and plots each\n",
    "value’s z-score on the y-axis; the x-axis is the corresponding quantile of a normal\n",
    "distribution for that value’s rank. (A good explanation can be found here https://data.library.virginia.edu/understanding-q-q-plots/) "
   ]
  },
  {
   "cell_type": "code",
   "execution_count": 23,
   "metadata": {},
   "outputs": [
    {
     "data": {
      "image/png": "[encoded data removed]",
      "text/plain": [
       "<Figure size 288x288 with 1 Axes>"
      ]
     },
     "metadata": {
      "needs_background": "light"
     },
     "output_type": "display_data"
    }
   ],
   "source": [
    "fig, ax = plt.subplots(figsize=(4, 4))\n",
    "\n",
    "norm_sample = stats.norm.rvs(size=100)\n",
    "stats.probplot(norm_sample, plot=ax)\n",
    "\n",
    "plt.show()"
   ]
  },
  {
   "cell_type": "markdown",
   "metadata": {},
   "source": [
    "Converting data to z-scores (i.e., standardizing or normalizing the data) does not make the data\n",
    "normally distributed. It just puts the data on the same scale as the standard normal distribution,\n",
    "often for comparison purposes."
   ]
  },
  {
   "cell_type": "markdown",
   "metadata": {},
   "source": [
    "Key ideas:\n",
    "\n",
    "The normal distribution was essential to the historical development of statistics, as it permitted\n",
    "mathematical approximation of uncertainty and variability.  \n",
    "While raw data is typically not normally distributed, errors often are, as are averages and totals in\n",
    "large samples.  \n",
    "To convert data to z-scores, you subtract the mean of the data and divide by the standard deviation;\n",
    "you can then compare the data to a normal distribution."
   ]
  },
  {
   "cell_type": "markdown",
   "metadata": {},
   "source": [
    "## 5. Long-Tailed Distributions"
   ]
  },
  {
   "cell_type": "markdown",
   "metadata": {},
   "source": [
    "Despite the importance of the normal distribution historically in statistics, and in\n",
    "contrast to what the name would suggest, data is generally not normally\n",
    "distributed.\n",
    "\n",
    "While the normal distribution is often appropriate and useful with respect to the\n",
    "distribution of errors and sample statistics, it typically does not characterize the\n",
    "distribution of raw data. Sometimes, the distribution is highly skewed. Both symmetric and asymmetric distributions may have long\n",
    "tails. The tails of a distribution correspond to the extreme values (small and\n",
    "large)."
   ]
  },
  {
   "cell_type": "code",
   "execution_count": 24,
   "metadata": {},
   "outputs": [
    {
     "data": {
      "image/png": "[encoded data removed]",
      "text/plain": [
       "<Figure size 288x288 with 1 Axes>"
      ]
     },
     "metadata": {
      "needs_background": "light"
     },
     "output_type": "display_data"
    }
   ],
   "source": [
    "# QQ-Plot for the daily stock returns for Netflix (NFLX).\n",
    "\n",
    "sp500_px = pd.read_csv(SP500_DATA_CSV)\n",
    "\n",
    "nflx = sp500_px.NFLX\n",
    "nflx = np.diff(np.log(nflx[nflx>0]))\n",
    "\n",
    "fig, ax = plt.subplots(figsize=(4, 4))\n",
    "stats.probplot(nflx, plot=ax)\n",
    "\n",
    "plt.show()"
   ]
  },
  {
   "cell_type": "markdown",
   "metadata": {},
   "source": [
    "In contrast to Figure 2-11, the points are far below the line for low values and far\n",
    "above the line for high values. This means that we are much more likely to\n",
    "observe extreme values than would be expected if the data had a normal\n",
    "distribution. Figure 2-12 shows another common phenomena: the points are close\n",
    "to the line for the data within one standard deviation of the mean. Tukey refers to\n",
    "this phenomenon as data being “normal in the middle,” but having much longer\n",
    "tails."
   ]
  },
  {
   "cell_type": "markdown",
   "metadata": {},
   "source": [
    "KEY IDEAS:\n",
    "\n",
    "Most data is not normally distributed.  \n",
    "Assuming a normal distribution can lead to underestimation of extreme events (“black swans”)."
   ]
  },
  {
   "cell_type": "markdown",
   "metadata": {},
   "source": [
    "## 6. Student's t-Distribution"
   ]
  },
  {
   "cell_type": "markdown",
   "metadata": {},
   "source": [
    "The t-distribution is a normally shaped distribution, but a bit thicker and longer\n",
    "on the tails. It is used extensively in depicting distributions of sample statistics.\n",
    "Distributions of sample means are typically shaped like a t-distribution, and there\n",
    "is a family of t-distributions that differ depending on how large the sample is. The\n",
    "larger the sample, the more normally shaped the t-distribution becomes.\n",
    "\n",
    "KEY IDEAS\n",
    "\n",
    "The t-distribution is actually a family of distributions resembling the normal distribution, but with\n",
    "thicker tails.  \n",
    "It is widely used as a reference basis for the distribution of sample means, differerences between\n",
    "two sample means, regression parameters, and more.\n",
    "\n",
    "What do data scientists need to know about the t-distribution and the central limit theorem? Not a\n",
    "whole lot. These distributions are used in classical statistical inference, but are not as central to\n",
    "the purposes of data science. Understanding and quantifying uncertainty and variation are\n",
    "important to data scientists, but empirical bootstrap sampling can answer most questions about\n",
    "sampling error. However, data scientists will routinely encounter t-statistics in output from\n",
    "statistical software and statistical procedures in R, for example in A-B tests and regressions, so\n",
    "familiarity with its purpose is helpful."
   ]
  },
  {
   "cell_type": "markdown",
   "metadata": {},
   "source": [
    "## 7. Binomial Distribution"
   ]
  },
  {
   "cell_type": "markdown",
   "metadata": {},
   "source": [
    "KEY TERMS FOR BINOMIAL DISTRIBUTION\n",
    "\n",
    "Trial: An event with a discrete outcome (e.g., a coin flip).  \n",
    "Success\n",
    "The outcome of interest for a trial.\n",
    "Synonyms\n",
    "“1” (as opposed to “0”)  \n",
    "Binomial: \n",
    "Having two outcomes.\n",
    "Synonyms\n",
    "yes/no, 0/1, binary  \n",
    "Binomial trial: \n",
    "A trial with two outcomes.\n",
    "Synonym\n",
    "Bernoulli trial   \n",
    "Binomial distribution: \n",
    "Distribution of number of successes in x trials.\n",
    "Synonym\n",
    "Bernoulli distribution"
   ]
  },
  {
   "cell_type": "markdown",
   "metadata": {},
   "source": [
    "Yes/no (binomial) outcomes lie at the heart of analytics since they are often the\n",
    "culmination of a decision or other process; buy/don’t buy, click/don’t click,\n",
    "survive/die, and so on. Central to understanding the binomial distribution is the\n",
    "idea of a set of trials, each trial having two possible outcomes with definite\n",
    "probabilities."
   ]
  },
  {
   "cell_type": "markdown",
   "metadata": {},
   "source": [
    "The binomial distribution is the frequency distribution of the number of successes\n",
    "(x) in a given number of trials (n) with specified probability (p) of success in\n",
    "each trial. There is a family of binomial distributions, depending on the values of\n",
    "x, n, and p. The binomial distribution would answer a question like:\n",
    "\n",
    "If the probability of a click converting to a sale is 0.02, what is the probability\n",
    "of observing 0 sales in 200 clicks?"
   ]
  },
  {
   "cell_type": "markdown",
   "metadata": {},
   "source": [
    "With a large enough number of trials\n",
    "(particularly when p is close to 0.50), the binomial distribution is virtually\n",
    "indistinguishable from the normal distribution. In fact, calculating binomial\n",
    "probabilities with large sample sizes is computationally demanding, and most\n",
    "statistical procedures use the normal distribution, with mean and variance, as an\n",
    "approximation. (check correponding chapter in \"Data science from scratch\")"
   ]
  },
  {
   "cell_type": "markdown",
   "metadata": {},
   "source": [
    "KEY IDEAS\n",
    "\n",
    "Binomial outcomes are important to model, since they represent, among other things, fundamental\n",
    "decisions (buy or don’t buy, click or don’t click, survive or die, etc.).  \n",
    "A binomial trial is an experiment with two possible outcomes: one with probability p and the other\n",
    "with probability 1 – p.  \n",
    "With large n, and provided p is not too close to 0 or 1, the binomial distribution can be approximated\n",
    "by the normal distribution.  "
   ]
  },
  {
   "cell_type": "markdown",
   "metadata": {},
   "source": [
    "## 8. Poisson and Related Distributions"
   ]
  },
  {
   "cell_type": "markdown",
   "metadata": {},
   "source": [
    "Many processes produce events randomly at a given overall rate — visitors\n",
    "arriving at a website, cars arriving at a toll plaza (events spread over time),\n",
    "imperfections in a square meter of fabric, or typos per 100 lines of code (events\n",
    "spread over space)."
   ]
  },
  {
   "cell_type": "markdown",
   "metadata": {},
   "source": [
    "KEY TERMS FOR POISSON AND RELATED DISTRIBUTIONS\n",
    "\n",
    "Lambda:\n",
    "The rate (per unit of time or space) at which events occur.  \n",
    "Poisson distribution:\n",
    "The frequency distribution of the number of events in sampled units of time or space.  \n",
    "Exponential distribution:\n",
    "The frequency distribution of the time or distance from one event to the next event.  \n",
    "Weibull distribution:\n",
    "A generalized version of the exponential, in which the event rate is allowed to shift over time."
   ]
  },
  {
   "cell_type": "markdown",
   "metadata": {},
   "source": [
    "### Poisson Distributions"
   ]
  },
  {
   "cell_type": "markdown",
   "metadata": {},
   "source": [
    "From prior data we can estimate the average number of events per unit of time or\n",
    "space, but we might also want to know how different this might be from one unit\n",
    "of time/space to another. The Poisson distribution tells us the distribution of\n",
    "events per unit of time or space when we sample many such units. It is useful\n",
    "when addressing queuing questions like “How much capacity do we need to be\n",
    "95% sure of fully processing the internet traffic that arrives on a server in any 5-\n",
    "second period?”\n",
    "\n",
    "The key parameter in a Poisson distribution is lambda. This is the mean\n",
    "number of events that occurs in a specified interval of time or space. The variance\n",
    "for a Poisson distribution is also lambda.\n",
    "A common technique is to generate random numbers from a Poisson distribution as\n",
    "part of a queuing simulation."
   ]
  },
  {
   "cell_type": "code",
   "execution_count": 28,
   "metadata": {},
   "outputs": [
    {
     "data": {
      "image/png": "[encoded data removed]",
      "text/plain": [
       "<Figure size 432x288 with 1 Axes>"
      ]
     },
     "metadata": {
      "needs_background": "light"
     },
     "output_type": "display_data"
    }
   ],
   "source": [
    "# generate 100 random numbers from a Poisson distribution with lambda = 2\n",
    "# For example, if incoming customer service calls average 2 per minute, this code will simulate 100 minutes, returning the number of calls in each of those 100 minutes.\n",
    "\n",
    "sample = stats.poisson.rvs(2, size=100)\n",
    "\n",
    "pd.Series(sample).plot.hist()\n",
    "plt.show()"
   ]
  },
  {
   "cell_type": "markdown",
   "metadata": {},
   "source": [
    "### Exponential Distribution"
   ]
  },
  {
   "cell_type": "markdown",
   "metadata": {},
   "source": [
    "Using the same parameter lambda that we used in the Poisson distribution, we can also\n",
    "model the distribution of the time between events: time between visits to a\n",
    "website or between cars arriving at a toll plaza."
   ]
  },
  {
   "cell_type": "code",
   "execution_count": 29,
   "metadata": {},
   "outputs": [
    {
     "data": {
      "image/png": "[encoded data removed]",
      "text/plain": [
       "<Figure size 432x288 with 1 Axes>"
      ]
     },
     "metadata": {
      "needs_background": "light"
     },
     "output_type": "display_data"
    }
   ],
   "source": [
    "# generate 100 random numbers from an exponential distribution where the mean number of events per time period is 2. \n",
    "# So we could use it to simulate 100 intervals, in minutes, between service calls, where the average rate of incoming calls is 0.2 per minute.\n",
    "\n",
    "sample = stats.expon.rvs(scale=5, size=100)\n",
    "\n",
    "pd.Series(sample).plot.hist()\n",
    "plt.show()"
   ]
  },
  {
   "cell_type": "markdown",
   "metadata": {},
   "source": [
    "A key assumption in any simulation study for either the Poisson or exponential\n",
    "distribution is that the rate, lambda, remains constant over the period being considered.\n",
    "This is rarely reasonable in a global sense; for example, traffic on roads or data\n",
    "networks varies by time of day and day of week. However, the time periods, or\n",
    "areas of space, can usually be divided into segments that are sufficiently\n",
    "homogeneous so that analysis or simulation within those periods is valid."
   ]
  },
  {
   "cell_type": "markdown",
   "metadata": {},
   "source": [
    "### Estimating the failure rate"
   ]
  },
  {
   "cell_type": "markdown",
   "metadata": {},
   "source": [
    "In many applications, the event rate, , is known or can be estimated from prior\n",
    "data. However, for rare events, this is not necessarily so. Aircraft engine failure,\n",
    "for example, is sufficiently rare (thankfully) that, for a given engine type, there\n",
    "may be little data on which to base an estimate of time between failures. With no\n",
    "data at all, there is little basis on which to estimate an event rate. However, you\n",
    "can make some guesses: if no events have been seen after 20 hours, you can be\n",
    "pretty sure that the rate is not 1 per hour. Via simulation, or direct calculation of\n",
    "probabilities, you can assess different hypothetical event rates and estimate\n",
    "threshold values below which the rate is very unlikely to fall. If there is some data\n",
    "but not enough to provide a precise, reliable estimate of the rate, a goodness-of-fit\n",
    "test (see “Chi-Square Test”) can be applied to various rates to determine how\n",
    "well they fit the observed data."
   ]
  },
  {
   "cell_type": "markdown",
   "metadata": {},
   "source": [
    "### Weibull Distribution"
   ]
  },
  {
   "cell_type": "markdown",
   "metadata": {},
   "source": [
    "In many cases, the event rate does not remain constant over time. If the period\n",
    "over which it changes is much longer than the typical interval between events,\n",
    "there is no problem; you just subdivide the analysis into the segments where rates\n",
    "are relatively constant, as mentioned before. If, however, the event rate changes\n",
    "over the time of the interval, the exponential (or Poisson) distributions are no\n",
    "longer useful. This is likely to be the case in mechanical failure — the risk of\n",
    "failure increases as time goes by. The Weibull distribution is an extension of the\n",
    "exponential distribution, in which the event rate is allowed to change, as specified\n",
    "by a shape parameter, beta. If beta> 1, the probability of an event increases over\n",
    "time, if beta < 1, it decreases. Because the Weibull distribution is used with time-to-failure\n",
    "analysis instead of event rate, the second parameter is expressed in terms\n",
    "of characteristic life, rather than in terms of the rate of events per interval. The\n",
    "symbol used is the Greek letter eta. It is also called the scale parameter.\n",
    "With the Weibull, the estimation task now includes estimation of both parameters, beta\n",
    "and eta. Software is used to model the data and yield an estimate of the bestfitting\n",
    "Weibull distribution."
   ]
  },
  {
   "cell_type": "code",
   "execution_count": 31,
   "metadata": {},
   "outputs": [
    {
     "data": {
      "image/png": "[encoded data removed]",
      "text/plain": [
       "<Figure size 432x288 with 1 Axes>"
      ]
     },
     "metadata": {
      "needs_background": "light"
     },
     "output_type": "display_data"
    }
   ],
   "source": [
    "# generate 100 random numbers (lifetimes) from a Weibull distribution with shape of 1.5 and characteristic life of 5,000\n",
    "\n",
    "sample = stats.weibull_min.rvs(1.5, scale=5000, size=100)\n",
    "\n",
    "pd.Series(sample).plot.hist()\n",
    "plt.show()"
   ]
  },
  {
   "cell_type": "markdown",
   "metadata": {},
   "source": [
    "Key Ideas\n",
    "\n",
    "For events that occur at a constant rate, the number of events per unit of time or space can be\n",
    "modeled as a Poisson distribution.  \n",
    "In this scenario, you can also model the time or distance between one event and the next as an\n",
    "exponential distribution.  \n",
    "A changing event rate over time (e.g., an increasing probability of device failure) can be modeled\n",
    "with the Weibull distribution.  "
   ]
  },
  {
   "cell_type": "markdown",
   "metadata": {},
   "source": [
    "## Summary\n",
    "\n",
    "In the era of big data, the principles of random sampling remain important when\n",
    "accurate estimates are needed. Random selection of data can reduce bias and\n",
    "yield a higher quality data set than would result from just using the conveniently\n",
    "available data. Knowledge of various sampling and data generating distributions\n",
    "allows us to quantify potential errors in an estimate that might be due to random\n",
    "variation. At the same time, the bootstrap (sampling with replacement from an\n",
    "observed data set) is an attractive “one size fits all” method to determine possible\n",
    "error in sample estimates."
   ]
  },
  {
   "cell_type": "markdown",
   "metadata": {},
   "source": [
    "## Appendix: Sampling with replacement or without replacement\n",
    "\n",
    "Sampling with replacement:\n",
    "\n",
    "Consider a population of potato sacks, each of which has either 12, 13, 14, 15, 16, 17, or 18 potatoes, and all the values are equally likely. Suppose that, in this population, there is exactly one sack with each number. So the whole population has seven sacks. If I sample two with replacement, then I first pick one (say 14). I had a 1/7 probability of choosing that one. Then I replace it. Then I pick another. Every one of them still has 1/7 probability of being chosen. And there are exactly 49 different possibilities here (assuming we distinguish between the first and second.) They are: (12,12), (12,13), (12, 14), (12,15), (12,16), (12,17), (12,18), (13,12), (13,13), (13,14), etc.\n",
    "\n",
    "Sampling without replacement:\n",
    "\n",
    "Consider the same population of potato sacks, each of which has either 12, 13, 14, 15, 16, 17, or 18 potatoes, and all the values are equally likely. Suppose that, in this population, there is exactly one sack with each number. So the whole population has seven sacks. If I sample two without replacement, then I first pick one (say 14). I had a 1/7 probability of choosing that one. Then I pick another. At this point, there are only six possibilities: 12, 13, 15, 16, 17, and 18. So there are only 42 different possibilities here (again assuming that we distinguish between the first and the second.) They are: (12,13), (12,14), (12,15), (12,16), (12,17), (12,18), (13,12), (13,14), (13,15), etc.\n",
    "\n",
    "What's the Difference?\n",
    "\n",
    "When we sample with replacement, the two sample values are independent. Practically, this means that what we get on the first one doesn't affect what we get on the second. Mathematically, this means that the covariance between the two is zero.\n",
    "\n",
    "In sampling without replacement, the two sample values aren't independent. Practically, this means that what we got on the for the first one affects what we can get for the second one. Mathematically, this means that the covariance between the two isn't zero. "
   ]
  }
 ],
 "metadata": {
  "interpreter": {
   "hash": "4dd7b61bd20a2dd8a216762199d895c877245e26d7972026d58786b4b9c39df0"
  },
  "kernelspec": {
   "display_name": "Python 3.8.5 ('base')",
   "language": "python",
   "name": "python3"
  },
  "language_info": {
   "codemirror_mode": {
    "name": "ipython",
    "version": 3
   },
   "file_extension": ".py",
   "mimetype": "text/x-python",
   "name": "python",
   "nbconvert_exporter": "python",
   "pygments_lexer": "ipython3",
   "version": "3.8.5"
  },
  "orig_nbformat": 4
 },
 "nbformat": 4,
 "nbformat_minor": 2
}
